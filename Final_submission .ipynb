{
 "cells": [
  {
   "cell_type": "markdown",
   "metadata": {},
   "source": [
    "# Health Insurance Lead Prediction "
   ]
  },
  {
   "cell_type": "markdown",
   "metadata": {},
   "source": [
    "Importing libraries and reading data files"
   ]
  },
  {
   "cell_type": "code",
   "execution_count": 74,
   "metadata": {
    "ExecuteTime": {
     "end_time": "2021-02-28T13:26:57.994042Z",
     "start_time": "2021-02-28T13:26:57.982050Z"
    }
   },
   "outputs": [],
   "source": [
    "%matplotlib inline\n",
    "import warnings \n",
    "warnings.filterwarnings(\"ignore\")\n",
    "\n",
    "import pandas as pd\n",
    "import numpy as np\n",
    "import matplotlib.pyplot as plt\n",
    "import seaborn as sns\n",
    "\n",
    "from collections import Counter\n",
    "from tqdm import tqdm\n",
    "import os\n",
    "\n",
    "from sklearn import metrics\n",
    "from sklearn.metrics import confusion_matrix\n",
    "from sklearn.metrics import roc_curve, auc\n",
    "from sklearn.metrics import f1_score\n",
    "from sklearn.metrics import roc_auc_score"
   ]
  },
  {
   "cell_type": "code",
   "execution_count": 75,
   "metadata": {
    "ExecuteTime": {
     "end_time": "2021-02-28T13:26:58.340865Z",
     "start_time": "2021-02-28T13:26:57.997041Z"
    }
   },
   "outputs": [],
   "source": [
    "# loading of data\n",
    "\n",
    "train_data = pd.read_csv(\"train_Df64byy.csv\")\n",
    "test_data = pd.read_csv(\"test_YCcRUnU.csv\")\n",
    "test=test_data.copy()\n",
    "train_data=pd.concat([train_data,test],axis=0)"
   ]
  },
  {
   "cell_type": "code",
   "execution_count": 76,
   "metadata": {
    "ExecuteTime": {
     "end_time": "2021-02-28T13:26:58.351839Z",
     "start_time": "2021-02-28T13:26:58.343842Z"
    }
   },
   "outputs": [
    {
     "name": "stdout",
     "output_type": "stream",
     "text": [
      "(72687, 14)\n",
      "(21805, 13)\n"
     ]
    }
   ],
   "source": [
    "# shape of the test and train data \n",
    "\n",
    "print(train_data.shape)\n",
    "print(test_data.shape)"
   ]
  },
  {
   "cell_type": "code",
   "execution_count": 77,
   "metadata": {
    "ExecuteTime": {
     "end_time": "2021-02-28T13:26:58.531735Z",
     "start_time": "2021-02-28T13:26:58.354836Z"
    }
   },
   "outputs": [
    {
     "data": {
      "text/html": [
       "<div>\n",
       "<style scoped>\n",
       "    .dataframe tbody tr th:only-of-type {\n",
       "        vertical-align: middle;\n",
       "    }\n",
       "\n",
       "    .dataframe tbody tr th {\n",
       "        vertical-align: top;\n",
       "    }\n",
       "\n",
       "    .dataframe thead th {\n",
       "        text-align: right;\n",
       "    }\n",
       "</style>\n",
       "<table border=\"1\" class=\"dataframe\">\n",
       "  <thead>\n",
       "    <tr style=\"text-align: right;\">\n",
       "      <th></th>\n",
       "      <th>Accomodation_Type</th>\n",
       "      <th>City_Code</th>\n",
       "      <th>Health Indicator</th>\n",
       "      <th>Holding_Policy_Duration</th>\n",
       "      <th>Holding_Policy_Type</th>\n",
       "      <th>ID</th>\n",
       "      <th>Is_Spouse</th>\n",
       "      <th>Lower_Age</th>\n",
       "      <th>Reco_Insurance_Type</th>\n",
       "      <th>Reco_Policy_Cat</th>\n",
       "      <th>Reco_Policy_Premium</th>\n",
       "      <th>Region_Code</th>\n",
       "      <th>Response</th>\n",
       "      <th>Upper_Age</th>\n",
       "    </tr>\n",
       "  </thead>\n",
       "  <tbody>\n",
       "    <tr>\n",
       "      <td>0</td>\n",
       "      <td>Rented</td>\n",
       "      <td>C3</td>\n",
       "      <td>X1</td>\n",
       "      <td>14+</td>\n",
       "      <td>3.0</td>\n",
       "      <td>1</td>\n",
       "      <td>No</td>\n",
       "      <td>36</td>\n",
       "      <td>Individual</td>\n",
       "      <td>22</td>\n",
       "      <td>11628.0</td>\n",
       "      <td>3213</td>\n",
       "      <td>0.0</td>\n",
       "      <td>36</td>\n",
       "    </tr>\n",
       "    <tr>\n",
       "      <td>1</td>\n",
       "      <td>Owned</td>\n",
       "      <td>C5</td>\n",
       "      <td>X2</td>\n",
       "      <td>NaN</td>\n",
       "      <td>NaN</td>\n",
       "      <td>2</td>\n",
       "      <td>No</td>\n",
       "      <td>22</td>\n",
       "      <td>Joint</td>\n",
       "      <td>22</td>\n",
       "      <td>30510.0</td>\n",
       "      <td>1117</td>\n",
       "      <td>0.0</td>\n",
       "      <td>75</td>\n",
       "    </tr>\n",
       "    <tr>\n",
       "      <td>2</td>\n",
       "      <td>Owned</td>\n",
       "      <td>C5</td>\n",
       "      <td>NaN</td>\n",
       "      <td>1.0</td>\n",
       "      <td>1.0</td>\n",
       "      <td>3</td>\n",
       "      <td>No</td>\n",
       "      <td>32</td>\n",
       "      <td>Individual</td>\n",
       "      <td>19</td>\n",
       "      <td>7450.0</td>\n",
       "      <td>3732</td>\n",
       "      <td>1.0</td>\n",
       "      <td>32</td>\n",
       "    </tr>\n",
       "    <tr>\n",
       "      <td>3</td>\n",
       "      <td>Owned</td>\n",
       "      <td>C24</td>\n",
       "      <td>X1</td>\n",
       "      <td>14+</td>\n",
       "      <td>3.0</td>\n",
       "      <td>4</td>\n",
       "      <td>No</td>\n",
       "      <td>48</td>\n",
       "      <td>Joint</td>\n",
       "      <td>19</td>\n",
       "      <td>17780.0</td>\n",
       "      <td>4378</td>\n",
       "      <td>0.0</td>\n",
       "      <td>52</td>\n",
       "    </tr>\n",
       "    <tr>\n",
       "      <td>4</td>\n",
       "      <td>Rented</td>\n",
       "      <td>C8</td>\n",
       "      <td>X2</td>\n",
       "      <td>3.0</td>\n",
       "      <td>1.0</td>\n",
       "      <td>5</td>\n",
       "      <td>No</td>\n",
       "      <td>44</td>\n",
       "      <td>Individual</td>\n",
       "      <td>16</td>\n",
       "      <td>10404.0</td>\n",
       "      <td>2190</td>\n",
       "      <td>0.0</td>\n",
       "      <td>44</td>\n",
       "    </tr>\n",
       "    <tr>\n",
       "      <td>5</td>\n",
       "      <td>Rented</td>\n",
       "      <td>C9</td>\n",
       "      <td>X2</td>\n",
       "      <td>5.0</td>\n",
       "      <td>1.0</td>\n",
       "      <td>6</td>\n",
       "      <td>No</td>\n",
       "      <td>52</td>\n",
       "      <td>Individual</td>\n",
       "      <td>22</td>\n",
       "      <td>15264.0</td>\n",
       "      <td>1785</td>\n",
       "      <td>1.0</td>\n",
       "      <td>52</td>\n",
       "    </tr>\n",
       "    <tr>\n",
       "      <td>6</td>\n",
       "      <td>Owned</td>\n",
       "      <td>C3</td>\n",
       "      <td>NaN</td>\n",
       "      <td>NaN</td>\n",
       "      <td>NaN</td>\n",
       "      <td>7</td>\n",
       "      <td>No</td>\n",
       "      <td>28</td>\n",
       "      <td>Individual</td>\n",
       "      <td>17</td>\n",
       "      <td>10640.0</td>\n",
       "      <td>679</td>\n",
       "      <td>0.0</td>\n",
       "      <td>28</td>\n",
       "    </tr>\n",
       "    <tr>\n",
       "      <td>7</td>\n",
       "      <td>Owned</td>\n",
       "      <td>C1</td>\n",
       "      <td>X4</td>\n",
       "      <td>9.0</td>\n",
       "      <td>4.0</td>\n",
       "      <td>8</td>\n",
       "      <td>Yes</td>\n",
       "      <td>73</td>\n",
       "      <td>Joint</td>\n",
       "      <td>17</td>\n",
       "      <td>29344.0</td>\n",
       "      <td>3175</td>\n",
       "      <td>1.0</td>\n",
       "      <td>75</td>\n",
       "    </tr>\n",
       "    <tr>\n",
       "      <td>8</td>\n",
       "      <td>Owned</td>\n",
       "      <td>C15</td>\n",
       "      <td>X1</td>\n",
       "      <td>14.0</td>\n",
       "      <td>3.0</td>\n",
       "      <td>9</td>\n",
       "      <td>No</td>\n",
       "      <td>43</td>\n",
       "      <td>Joint</td>\n",
       "      <td>1</td>\n",
       "      <td>27283.2</td>\n",
       "      <td>3497</td>\n",
       "      <td>0.0</td>\n",
       "      <td>52</td>\n",
       "    </tr>\n",
       "    <tr>\n",
       "      <td>9</td>\n",
       "      <td>Owned</td>\n",
       "      <td>C1</td>\n",
       "      <td>NaN</td>\n",
       "      <td>7.0</td>\n",
       "      <td>4.0</td>\n",
       "      <td>10</td>\n",
       "      <td>Yes</td>\n",
       "      <td>26</td>\n",
       "      <td>Joint</td>\n",
       "      <td>18</td>\n",
       "      <td>21100.8</td>\n",
       "      <td>530</td>\n",
       "      <td>1.0</td>\n",
       "      <td>59</td>\n",
       "    </tr>\n",
       "  </tbody>\n",
       "</table>\n",
       "</div>"
      ],
      "text/plain": [
       "  Accomodation_Type City_Code Health Indicator Holding_Policy_Duration  \\\n",
       "0            Rented        C3               X1                     14+   \n",
       "1             Owned        C5               X2                     NaN   \n",
       "2             Owned        C5              NaN                     1.0   \n",
       "3             Owned       C24               X1                     14+   \n",
       "4            Rented        C8               X2                     3.0   \n",
       "5            Rented        C9               X2                     5.0   \n",
       "6             Owned        C3              NaN                     NaN   \n",
       "7             Owned        C1               X4                     9.0   \n",
       "8             Owned       C15               X1                    14.0   \n",
       "9             Owned        C1              NaN                     7.0   \n",
       "\n",
       "   Holding_Policy_Type  ID Is_Spouse  Lower_Age Reco_Insurance_Type  \\\n",
       "0                  3.0   1        No         36          Individual   \n",
       "1                  NaN   2        No         22               Joint   \n",
       "2                  1.0   3        No         32          Individual   \n",
       "3                  3.0   4        No         48               Joint   \n",
       "4                  1.0   5        No         44          Individual   \n",
       "5                  1.0   6        No         52          Individual   \n",
       "6                  NaN   7        No         28          Individual   \n",
       "7                  4.0   8       Yes         73               Joint   \n",
       "8                  3.0   9        No         43               Joint   \n",
       "9                  4.0  10       Yes         26               Joint   \n",
       "\n",
       "   Reco_Policy_Cat  Reco_Policy_Premium  Region_Code  Response  Upper_Age  \n",
       "0               22              11628.0         3213       0.0         36  \n",
       "1               22              30510.0         1117       0.0         75  \n",
       "2               19               7450.0         3732       1.0         32  \n",
       "3               19              17780.0         4378       0.0         52  \n",
       "4               16              10404.0         2190       0.0         44  \n",
       "5               22              15264.0         1785       1.0         52  \n",
       "6               17              10640.0          679       0.0         28  \n",
       "7               17              29344.0         3175       1.0         75  \n",
       "8                1              27283.2         3497       0.0         52  \n",
       "9               18              21100.8          530       1.0         59  "
      ]
     },
     "execution_count": 77,
     "metadata": {},
     "output_type": "execute_result"
    }
   ],
   "source": [
    "# display first few rows of train data \n",
    "train_data.head(10)\n",
    "\n",
    "\n"
   ]
  },
  {
   "cell_type": "code",
   "execution_count": 78,
   "metadata": {
    "ExecuteTime": {
     "end_time": "2021-02-28T13:26:58.710632Z",
     "start_time": "2021-02-28T13:26:58.533732Z"
    }
   },
   "outputs": [
    {
     "data": {
      "text/html": [
       "<div>\n",
       "<style scoped>\n",
       "    .dataframe tbody tr th:only-of-type {\n",
       "        vertical-align: middle;\n",
       "    }\n",
       "\n",
       "    .dataframe tbody tr th {\n",
       "        vertical-align: top;\n",
       "    }\n",
       "\n",
       "    .dataframe thead th {\n",
       "        text-align: right;\n",
       "    }\n",
       "</style>\n",
       "<table border=\"1\" class=\"dataframe\">\n",
       "  <thead>\n",
       "    <tr style=\"text-align: right;\">\n",
       "      <th></th>\n",
       "      <th>ID</th>\n",
       "      <th>City_Code</th>\n",
       "      <th>Region_Code</th>\n",
       "      <th>Accomodation_Type</th>\n",
       "      <th>Reco_Insurance_Type</th>\n",
       "      <th>Upper_Age</th>\n",
       "      <th>Lower_Age</th>\n",
       "      <th>Is_Spouse</th>\n",
       "      <th>Health Indicator</th>\n",
       "      <th>Holding_Policy_Duration</th>\n",
       "      <th>Holding_Policy_Type</th>\n",
       "      <th>Reco_Policy_Cat</th>\n",
       "      <th>Reco_Policy_Premium</th>\n",
       "    </tr>\n",
       "  </thead>\n",
       "  <tbody>\n",
       "    <tr>\n",
       "      <td>0</td>\n",
       "      <td>50883</td>\n",
       "      <td>C1</td>\n",
       "      <td>156</td>\n",
       "      <td>Owned</td>\n",
       "      <td>Individual</td>\n",
       "      <td>30</td>\n",
       "      <td>30</td>\n",
       "      <td>No</td>\n",
       "      <td>NaN</td>\n",
       "      <td>6.0</td>\n",
       "      <td>3.0</td>\n",
       "      <td>5</td>\n",
       "      <td>11934.0</td>\n",
       "    </tr>\n",
       "    <tr>\n",
       "      <td>1</td>\n",
       "      <td>50884</td>\n",
       "      <td>C4</td>\n",
       "      <td>7</td>\n",
       "      <td>Owned</td>\n",
       "      <td>Joint</td>\n",
       "      <td>69</td>\n",
       "      <td>68</td>\n",
       "      <td>Yes</td>\n",
       "      <td>X1</td>\n",
       "      <td>3.0</td>\n",
       "      <td>3.0</td>\n",
       "      <td>18</td>\n",
       "      <td>32204.8</td>\n",
       "    </tr>\n",
       "    <tr>\n",
       "      <td>2</td>\n",
       "      <td>50885</td>\n",
       "      <td>C1</td>\n",
       "      <td>564</td>\n",
       "      <td>Rented</td>\n",
       "      <td>Individual</td>\n",
       "      <td>28</td>\n",
       "      <td>28</td>\n",
       "      <td>No</td>\n",
       "      <td>X3</td>\n",
       "      <td>2.0</td>\n",
       "      <td>4.0</td>\n",
       "      <td>17</td>\n",
       "      <td>9240.0</td>\n",
       "    </tr>\n",
       "    <tr>\n",
       "      <td>3</td>\n",
       "      <td>50886</td>\n",
       "      <td>C3</td>\n",
       "      <td>1177</td>\n",
       "      <td>Rented</td>\n",
       "      <td>Individual</td>\n",
       "      <td>23</td>\n",
       "      <td>23</td>\n",
       "      <td>No</td>\n",
       "      <td>X3</td>\n",
       "      <td>3.0</td>\n",
       "      <td>3.0</td>\n",
       "      <td>18</td>\n",
       "      <td>9086.0</td>\n",
       "    </tr>\n",
       "    <tr>\n",
       "      <td>4</td>\n",
       "      <td>50887</td>\n",
       "      <td>C1</td>\n",
       "      <td>951</td>\n",
       "      <td>Owned</td>\n",
       "      <td>Individual</td>\n",
       "      <td>75</td>\n",
       "      <td>75</td>\n",
       "      <td>No</td>\n",
       "      <td>X3</td>\n",
       "      <td>NaN</td>\n",
       "      <td>NaN</td>\n",
       "      <td>5</td>\n",
       "      <td>22534.0</td>\n",
       "    </tr>\n",
       "    <tr>\n",
       "      <td>5</td>\n",
       "      <td>50888</td>\n",
       "      <td>C1</td>\n",
       "      <td>1329</td>\n",
       "      <td>Rented</td>\n",
       "      <td>Individual</td>\n",
       "      <td>24</td>\n",
       "      <td>24</td>\n",
       "      <td>No</td>\n",
       "      <td>X2</td>\n",
       "      <td>NaN</td>\n",
       "      <td>NaN</td>\n",
       "      <td>18</td>\n",
       "      <td>6150.0</td>\n",
       "    </tr>\n",
       "    <tr>\n",
       "      <td>6</td>\n",
       "      <td>50889</td>\n",
       "      <td>C2</td>\n",
       "      <td>3479</td>\n",
       "      <td>Owned</td>\n",
       "      <td>Individual</td>\n",
       "      <td>56</td>\n",
       "      <td>56</td>\n",
       "      <td>No</td>\n",
       "      <td>X5</td>\n",
       "      <td>14+</td>\n",
       "      <td>4.0</td>\n",
       "      <td>17</td>\n",
       "      <td>19152.0</td>\n",
       "    </tr>\n",
       "    <tr>\n",
       "      <td>7</td>\n",
       "      <td>50890</td>\n",
       "      <td>C13</td>\n",
       "      <td>396</td>\n",
       "      <td>Rented</td>\n",
       "      <td>Individual</td>\n",
       "      <td>41</td>\n",
       "      <td>41</td>\n",
       "      <td>No</td>\n",
       "      <td>NaN</td>\n",
       "      <td>NaN</td>\n",
       "      <td>NaN</td>\n",
       "      <td>16</td>\n",
       "      <td>11034.0</td>\n",
       "    </tr>\n",
       "    <tr>\n",
       "      <td>8</td>\n",
       "      <td>50891</td>\n",
       "      <td>C18</td>\n",
       "      <td>513</td>\n",
       "      <td>Owned</td>\n",
       "      <td>Individual</td>\n",
       "      <td>22</td>\n",
       "      <td>22</td>\n",
       "      <td>No</td>\n",
       "      <td>X3</td>\n",
       "      <td>NaN</td>\n",
       "      <td>NaN</td>\n",
       "      <td>22</td>\n",
       "      <td>10784.0</td>\n",
       "    </tr>\n",
       "    <tr>\n",
       "      <td>9</td>\n",
       "      <td>50892</td>\n",
       "      <td>C3</td>\n",
       "      <td>957</td>\n",
       "      <td>Owned</td>\n",
       "      <td>Joint</td>\n",
       "      <td>41</td>\n",
       "      <td>37</td>\n",
       "      <td>Yes</td>\n",
       "      <td>X5</td>\n",
       "      <td>6.0</td>\n",
       "      <td>1.0</td>\n",
       "      <td>22</td>\n",
       "      <td>16934.4</td>\n",
       "    </tr>\n",
       "  </tbody>\n",
       "</table>\n",
       "</div>"
      ],
      "text/plain": [
       "      ID City_Code  Region_Code Accomodation_Type Reco_Insurance_Type  \\\n",
       "0  50883        C1          156             Owned          Individual   \n",
       "1  50884        C4            7             Owned               Joint   \n",
       "2  50885        C1          564            Rented          Individual   \n",
       "3  50886        C3         1177            Rented          Individual   \n",
       "4  50887        C1          951             Owned          Individual   \n",
       "5  50888        C1         1329            Rented          Individual   \n",
       "6  50889        C2         3479             Owned          Individual   \n",
       "7  50890       C13          396            Rented          Individual   \n",
       "8  50891       C18          513             Owned          Individual   \n",
       "9  50892        C3          957             Owned               Joint   \n",
       "\n",
       "   Upper_Age  Lower_Age Is_Spouse Health Indicator Holding_Policy_Duration  \\\n",
       "0         30         30        No              NaN                     6.0   \n",
       "1         69         68       Yes               X1                     3.0   \n",
       "2         28         28        No               X3                     2.0   \n",
       "3         23         23        No               X3                     3.0   \n",
       "4         75         75        No               X3                     NaN   \n",
       "5         24         24        No               X2                     NaN   \n",
       "6         56         56        No               X5                     14+   \n",
       "7         41         41        No              NaN                     NaN   \n",
       "8         22         22        No               X3                     NaN   \n",
       "9         41         37       Yes               X5                     6.0   \n",
       "\n",
       "   Holding_Policy_Type  Reco_Policy_Cat  Reco_Policy_Premium  \n",
       "0                  3.0                5              11934.0  \n",
       "1                  3.0               18              32204.8  \n",
       "2                  4.0               17               9240.0  \n",
       "3                  3.0               18               9086.0  \n",
       "4                  NaN                5              22534.0  \n",
       "5                  NaN               18               6150.0  \n",
       "6                  4.0               17              19152.0  \n",
       "7                  NaN               16              11034.0  \n",
       "8                  NaN               22              10784.0  \n",
       "9                  1.0               22              16934.4  "
      ]
     },
     "execution_count": 78,
     "metadata": {},
     "output_type": "execute_result"
    }
   ],
   "source": [
    "#first few rows of test data\n",
    "test_data.head(10)"
   ]
  },
  {
   "cell_type": "code",
   "execution_count": 79,
   "metadata": {
    "ExecuteTime": {
     "end_time": "2021-02-28T13:26:58.886530Z",
     "start_time": "2021-02-28T13:26:58.716628Z"
    }
   },
   "outputs": [
    {
     "name": "stdout",
     "output_type": "stream",
     "text": [
      "<class 'pandas.core.frame.DataFrame'>\n",
      "Int64Index: 72687 entries, 0 to 21804\n",
      "Data columns (total 14 columns):\n",
      "Accomodation_Type          72687 non-null object\n",
      "City_Code                  72687 non-null object\n",
      "Health Indicator           55969 non-null object\n",
      "Holding_Policy_Duration    43833 non-null object\n",
      "Holding_Policy_Type        43833 non-null float64\n",
      "ID                         72687 non-null int64\n",
      "Is_Spouse                  72687 non-null object\n",
      "Lower_Age                  72687 non-null int64\n",
      "Reco_Insurance_Type        72687 non-null object\n",
      "Reco_Policy_Cat            72687 non-null int64\n",
      "Reco_Policy_Premium        72687 non-null float64\n",
      "Region_Code                72687 non-null int64\n",
      "Response                   50882 non-null float64\n",
      "Upper_Age                  72687 non-null int64\n",
      "dtypes: float64(3), int64(5), object(6)\n",
      "memory usage: 8.3+ MB\n"
     ]
    }
   ],
   "source": [
    "train_data.info()\n"
   ]
  },
  {
   "cell_type": "code",
   "execution_count": 80,
   "metadata": {
    "ExecuteTime": {
     "end_time": "2021-02-28T13:26:59.022453Z",
     "start_time": "2021-02-28T13:26:58.888528Z"
    }
   },
   "outputs": [
    {
     "name": "stdout",
     "output_type": "stream",
     "text": [
      "<class 'pandas.core.frame.DataFrame'>\n",
      "RangeIndex: 21805 entries, 0 to 21804\n",
      "Data columns (total 13 columns):\n",
      "ID                         21805 non-null int64\n",
      "City_Code                  21805 non-null object\n",
      "Region_Code                21805 non-null int64\n",
      "Accomodation_Type          21805 non-null object\n",
      "Reco_Insurance_Type        21805 non-null object\n",
      "Upper_Age                  21805 non-null int64\n",
      "Lower_Age                  21805 non-null int64\n",
      "Is_Spouse                  21805 non-null object\n",
      "Health Indicator           16778 non-null object\n",
      "Holding_Policy_Duration    13202 non-null object\n",
      "Holding_Policy_Type        13202 non-null float64\n",
      "Reco_Policy_Cat            21805 non-null int64\n",
      "Reco_Policy_Premium        21805 non-null float64\n",
      "dtypes: float64(2), int64(5), object(6)\n",
      "memory usage: 2.2+ MB\n"
     ]
    }
   ],
   "source": [
    "test_data.info()"
   ]
  },
  {
   "cell_type": "code",
   "execution_count": 81,
   "metadata": {
    "ExecuteTime": {
     "end_time": "2021-02-28T13:26:59.334276Z",
     "start_time": "2021-02-28T13:26:59.027450Z"
    }
   },
   "outputs": [
    {
     "data": {
      "text/plain": [
       "Accomodation_Type              2\n",
       "City_Code                     36\n",
       "Health Indicator               9\n",
       "Holding_Policy_Duration       15\n",
       "Holding_Policy_Type            4\n",
       "ID                         72687\n",
       "Is_Spouse                      2\n",
       "Lower_Age                     60\n",
       "Reco_Insurance_Type            2\n",
       "Reco_Policy_Cat               22\n",
       "Reco_Policy_Premium         7685\n",
       "Region_Code                 5538\n",
       "Response                       2\n",
       "Upper_Age                     58\n",
       "dtype: int64"
      ]
     },
     "execution_count": 81,
     "metadata": {},
     "output_type": "execute_result"
    }
   ],
   "source": [
    "train_data.nunique()"
   ]
  },
  {
   "cell_type": "code",
   "execution_count": 82,
   "metadata": {
    "ExecuteTime": {
     "end_time": "2021-02-28T13:26:59.410230Z",
     "start_time": "2021-02-28T13:26:59.338272Z"
    }
   },
   "outputs": [
    {
     "data": {
      "text/plain": [
       "Accomodation_Type              0\n",
       "City_Code                      0\n",
       "Health Indicator           16718\n",
       "Holding_Policy_Duration    28854\n",
       "Holding_Policy_Type        28854\n",
       "ID                             0\n",
       "Is_Spouse                      0\n",
       "Lower_Age                      0\n",
       "Reco_Insurance_Type            0\n",
       "Reco_Policy_Cat                0\n",
       "Reco_Policy_Premium            0\n",
       "Region_Code                    0\n",
       "Response                   21805\n",
       "Upper_Age                      0\n",
       "dtype: int64"
      ]
     },
     "execution_count": 82,
     "metadata": {},
     "output_type": "execute_result"
    }
   ],
   "source": [
    "train_data.isnull().sum()"
   ]
  },
  {
   "cell_type": "code",
   "execution_count": 83,
   "metadata": {
    "ExecuteTime": {
     "end_time": "2021-02-28T13:26:59.588129Z",
     "start_time": "2021-02-28T13:26:59.413228Z"
    }
   },
   "outputs": [
    {
     "data": {
      "text/plain": [
       "ID                            0\n",
       "City_Code                     0\n",
       "Region_Code                   0\n",
       "Accomodation_Type             0\n",
       "Reco_Insurance_Type           0\n",
       "Upper_Age                     0\n",
       "Lower_Age                     0\n",
       "Is_Spouse                     0\n",
       "Health Indicator           5027\n",
       "Holding_Policy_Duration    8603\n",
       "Holding_Policy_Type        8603\n",
       "Reco_Policy_Cat               0\n",
       "Reco_Policy_Premium           0\n",
       "dtype: int64"
      ]
     },
     "execution_count": 83,
     "metadata": {},
     "output_type": "execute_result"
    }
   ],
   "source": [
    "test_data.isnull().sum()"
   ]
  },
  {
   "cell_type": "code",
   "execution_count": 84,
   "metadata": {
    "ExecuteTime": {
     "end_time": "2021-02-28T13:26:59.783017Z",
     "start_time": "2021-02-28T13:26:59.602121Z"
    }
   },
   "outputs": [
    {
     "data": {
      "text/plain": [
       "0.0    38673\n",
       "1.0    12209\n",
       "Name: Response, dtype: int64"
      ]
     },
     "execution_count": 84,
     "metadata": {},
     "output_type": "execute_result"
    }
   ],
   "source": [
    "train_data[\"Response\"].value_counts()"
   ]
  },
  {
   "cell_type": "code",
   "execution_count": 85,
   "metadata": {
    "ExecuteTime": {
     "end_time": "2021-02-28T13:26:59.917939Z",
     "start_time": "2021-02-28T13:26:59.786015Z"
    }
   },
   "outputs": [
    {
     "data": {
      "text/plain": [
       "'\"the postive lead is half as such negative lead'"
      ]
     },
     "execution_count": 85,
     "metadata": {},
     "output_type": "execute_result"
    }
   ],
   "source": [
    "\"\"\"\"the postive lead is half as such negative lead\"\"\""
   ]
  },
  {
   "cell_type": "markdown",
   "metadata": {},
   "source": [
    "# Exploratory Data Analysis"
   ]
  },
  {
   "cell_type": "code",
   "execution_count": 86,
   "metadata": {
    "ExecuteTime": {
     "end_time": "2021-02-28T13:27:00.093027Z",
     "start_time": "2021-02-28T13:26:59.920938Z"
    }
   },
   "outputs": [],
   "source": [
    "# filling of missing values"
   ]
  },
  {
   "cell_type": "code",
   "execution_count": 87,
   "metadata": {
    "ExecuteTime": {
     "end_time": "2021-02-28T13:27:00.279316Z",
     "start_time": "2021-02-28T13:27:00.097024Z"
    }
   },
   "outputs": [
    {
     "data": {
      "text/plain": [
       "X1    18624\n",
       "X2    14848\n",
       "X3     9608\n",
       "X4     8185\n",
       "X5     2408\n",
       "X6     1794\n",
       "X7      292\n",
       "X8      119\n",
       "X9       91\n",
       "Name: Health Indicator, dtype: int64"
      ]
     },
     "execution_count": 87,
     "metadata": {},
     "output_type": "execute_result"
    }
   ],
   "source": [
    "train_data[\"Health Indicator\"].value_counts()"
   ]
  },
  {
   "cell_type": "code",
   "execution_count": 88,
   "metadata": {
    "ExecuteTime": {
     "end_time": "2021-02-28T13:27:00.461194Z",
     "start_time": "2021-02-28T13:27:00.286310Z"
    }
   },
   "outputs": [],
   "source": [
    "\n",
    "train_data.dropna(axis=0,inplace=True)"
   ]
  },
  {
   "cell_type": "code",
   "execution_count": 89,
   "metadata": {
    "ExecuteTime": {
     "end_time": "2021-02-28T13:27:00.595616Z",
     "start_time": "2021-02-28T13:27:00.463191Z"
    }
   },
   "outputs": [
    {
     "data": {
      "text/plain": [
       "1.0     3439\n",
       "2.0     3330\n",
       "14+     3323\n",
       "3.0     2756\n",
       "4.0     2134\n",
       "5.0     1828\n",
       "6.0     1465\n",
       "7.0     1220\n",
       "8.0     1007\n",
       "9.0      854\n",
       "10.0     618\n",
       "11.0     424\n",
       "13.0     402\n",
       "12.0     386\n",
       "14.0     362\n",
       "Name: Holding_Policy_Duration, dtype: int64"
      ]
     },
     "execution_count": 89,
     "metadata": {},
     "output_type": "execute_result"
    }
   ],
   "source": [
    "train_data[\"Holding_Policy_Duration\"].value_counts()"
   ]
  },
  {
   "cell_type": "code",
   "execution_count": 90,
   "metadata": {
    "ExecuteTime": {
     "end_time": "2021-02-28T13:27:00.750671Z",
     "start_time": "2021-02-28T13:27:00.598594Z"
    }
   },
   "outputs": [
    {
     "data": {
      "text/plain": [
       "0        14+\n",
       "3        14+\n",
       "4        3.0\n",
       "5        5.0\n",
       "7        9.0\n",
       "        ... \n",
       "50875    2.0\n",
       "50878    7.0\n",
       "50879    14+\n",
       "50880    2.0\n",
       "50881    2.0\n",
       "Name: Holding_Policy_Duration, Length: 23548, dtype: object"
      ]
     },
     "execution_count": 90,
     "metadata": {},
     "output_type": "execute_result"
    }
   ],
   "source": [
    "\n",
    "train_data[\"Holding_Policy_Duration\"].dropna(axis=0)"
   ]
  },
  {
   "cell_type": "code",
   "execution_count": 91,
   "metadata": {
    "ExecuteTime": {
     "end_time": "2021-02-28T13:27:00.925763Z",
     "start_time": "2021-02-28T13:27:00.753668Z"
    }
   },
   "outputs": [
    {
     "data": {
      "text/plain": [
       "0        14+\n",
       "3        14+\n",
       "4        3.0\n",
       "5        5.0\n",
       "7        9.0\n",
       "        ... \n",
       "50875    2.0\n",
       "50878    7.0\n",
       "50879    14+\n",
       "50880    2.0\n",
       "50881    2.0\n",
       "Name: Holding_Policy_Duration, Length: 23548, dtype: object"
      ]
     },
     "execution_count": 91,
     "metadata": {},
     "output_type": "execute_result"
    }
   ],
   "source": [
    "train_data[\"Holding_Policy_Duration\"]"
   ]
  },
  {
   "cell_type": "code",
   "execution_count": 92,
   "metadata": {
    "ExecuteTime": {
     "end_time": "2021-02-28T13:27:01.150443Z",
     "start_time": "2021-02-28T13:27:00.927742Z"
    }
   },
   "outputs": [
    {
     "data": {
      "text/plain": [
       "X1    7682\n",
       "X2    6252\n",
       "X3    3912\n",
       "X4    3638\n",
       "X5    1141\n",
       "X6     700\n",
       "X7     133\n",
       "X8      54\n",
       "X9      36\n",
       "Name: Health Indicator, dtype: int64"
      ]
     },
     "execution_count": 92,
     "metadata": {},
     "output_type": "execute_result"
    }
   ],
   "source": [
    "train_data[\"Health Indicator\"].value_counts()"
   ]
  },
  {
   "cell_type": "code",
   "execution_count": 93,
   "metadata": {
    "ExecuteTime": {
     "end_time": "2021-02-28T13:27:01.696774Z",
     "start_time": "2021-02-28T13:27:01.155437Z"
    }
   },
   "outputs": [
    {
     "data": {
      "text/plain": [
       "3.0    10237\n",
       "1.0     6307\n",
       "2.0     3817\n",
       "4.0     3187\n",
       "Name: Holding_Policy_Type, dtype: int64"
      ]
     },
     "execution_count": 93,
     "metadata": {},
     "output_type": "execute_result"
    }
   ],
   "source": [
    "train_data[\"Holding_Policy_Type\"].value_counts()"
   ]
  },
  {
   "cell_type": "code",
   "execution_count": 230,
   "metadata": {
    "ExecuteTime": {
     "end_time": "2021-02-28T13:48:49.481960Z",
     "start_time": "2021-02-28T13:48:49.469972Z"
    }
   },
   "outputs": [
    {
     "data": {
      "text/plain": [
       "0        3.0\n",
       "3        3.0\n",
       "4        1.0\n",
       "5        1.0\n",
       "7        4.0\n",
       "        ... \n",
       "50875    1.0\n",
       "50878    3.0\n",
       "50879    1.0\n",
       "50880    2.0\n",
       "50881    3.0\n",
       "Name: Holding_Policy_Type, Length: 23548, dtype: float64"
      ]
     },
     "execution_count": 230,
     "metadata": {},
     "output_type": "execute_result"
    }
   ],
   "source": [
    "\n",
    "train_data[\"Holding_Policy_Type\"].dropna(axis=0)"
   ]
  },
  {
   "cell_type": "code",
   "execution_count": 231,
   "metadata": {
    "ExecuteTime": {
     "end_time": "2021-02-28T13:48:51.404247Z",
     "start_time": "2021-02-28T13:48:51.398252Z"
    }
   },
   "outputs": [
    {
     "data": {
      "text/plain": [
       "0"
      ]
     },
     "execution_count": 231,
     "metadata": {},
     "output_type": "execute_result"
    }
   ],
   "source": [
    "train_data[\"Holding_Policy_Type\"].isnull().sum()"
   ]
  },
  {
   "cell_type": "code",
   "execution_count": 96,
   "metadata": {
    "ExecuteTime": {
     "end_time": "2021-02-28T13:27:02.329531Z",
     "start_time": "2021-02-28T13:27:02.140031Z"
    }
   },
   "outputs": [
    {
     "name": "stdout",
     "output_type": "stream",
     "text": [
      "<class 'pandas.core.frame.DataFrame'>\n",
      "Int64Index: 23548 entries, 0 to 50881\n",
      "Data columns (total 14 columns):\n",
      "Accomodation_Type          23548 non-null object\n",
      "City_Code                  23548 non-null object\n",
      "Health Indicator           23548 non-null object\n",
      "Holding_Policy_Duration    23548 non-null object\n",
      "Holding_Policy_Type        23548 non-null float64\n",
      "ID                         23548 non-null int64\n",
      "Is_Spouse                  23548 non-null object\n",
      "Lower_Age                  23548 non-null int64\n",
      "Reco_Insurance_Type        23548 non-null object\n",
      "Reco_Policy_Cat            23548 non-null int64\n",
      "Reco_Policy_Premium        23548 non-null float64\n",
      "Region_Code                23548 non-null int64\n",
      "Response                   23548 non-null float64\n",
      "Upper_Age                  23548 non-null int64\n",
      "dtypes: float64(3), int64(5), object(6)\n",
      "memory usage: 2.7+ MB\n"
     ]
    }
   ],
   "source": [
    "train_data.info()"
   ]
  },
  {
   "cell_type": "markdown",
   "metadata": {},
   "source": [
    "Accomodation"
   ]
  },
  {
   "cell_type": "code",
   "execution_count": 97,
   "metadata": {
    "ExecuteTime": {
     "end_time": "2021-02-28T13:27:02.768912Z",
     "start_time": "2021-02-28T13:27:02.336526Z"
    }
   },
   "outputs": [
    {
     "data": {
      "image/png": "[encoded data removed]",
      "text/plain": [
       "<Figure size 432x288 with 1 Axes>"
      ]
     },
     "metadata": {
      "needs_background": "light"
     },
     "output_type": "display_data"
    }
   ],
   "source": [
    "train_data.groupby([\"Accomodation_Type\", 'Response']).size().unstack().plot(kind = 'bar', stacked = True)\n",
    "plt.show()"
   ]
  },
  {
   "cell_type": "code",
   "execution_count": 98,
   "metadata": {
    "ExecuteTime": {
     "end_time": "2021-02-28T13:27:02.795753Z",
     "start_time": "2021-02-28T13:27:02.772766Z"
    }
   },
   "outputs": [
    {
     "name": "stdout",
     "output_type": "stream",
     "text": [
      "Owned     14457\n",
      "Rented     9091\n",
      "Name: Accomodation_Type, dtype: int64\n",
      "Owned     12090\n",
      "Rented     9715\n",
      "Name: Accomodation_Type, dtype: int64\n"
     ]
    }
   ],
   "source": [
    "print(train_data[\"Accomodation_Type\"].value_counts())\n",
    "print(test_data[\"Accomodation_Type\"].value_counts())"
   ]
  },
  {
   "cell_type": "markdown",
   "metadata": {},
   "source": [
    " Reco_insurance_type"
   ]
  },
  {
   "cell_type": "code",
   "execution_count": 99,
   "metadata": {
    "ExecuteTime": {
     "end_time": "2021-02-28T13:27:02.931441Z",
     "start_time": "2021-02-28T13:27:02.798751Z"
    }
   },
   "outputs": [
    {
     "data": {
      "text/html": [
       "<div>\n",
       "<style scoped>\n",
       "    .dataframe tbody tr th:only-of-type {\n",
       "        vertical-align: middle;\n",
       "    }\n",
       "\n",
       "    .dataframe tbody tr th {\n",
       "        vertical-align: top;\n",
       "    }\n",
       "\n",
       "    .dataframe thead th {\n",
       "        text-align: right;\n",
       "    }\n",
       "</style>\n",
       "<table border=\"1\" class=\"dataframe\">\n",
       "  <thead>\n",
       "    <tr style=\"text-align: right;\">\n",
       "      <th>Response</th>\n",
       "      <th>0.0</th>\n",
       "      <th>1.0</th>\n",
       "    </tr>\n",
       "    <tr>\n",
       "      <th>Reco_Insurance_Type</th>\n",
       "      <th></th>\n",
       "      <th></th>\n",
       "    </tr>\n",
       "  </thead>\n",
       "  <tbody>\n",
       "    <tr>\n",
       "      <td>Individual</td>\n",
       "      <td>13715</td>\n",
       "      <td>4332</td>\n",
       "    </tr>\n",
       "    <tr>\n",
       "      <td>Joint</td>\n",
       "      <td>4133</td>\n",
       "      <td>1368</td>\n",
       "    </tr>\n",
       "  </tbody>\n",
       "</table>\n",
       "</div>"
      ],
      "text/plain": [
       "Response               0.0   1.0\n",
       "Reco_Insurance_Type             \n",
       "Individual           13715  4332\n",
       "Joint                 4133  1368"
      ]
     },
     "execution_count": 99,
     "metadata": {},
     "output_type": "execute_result"
    }
   ],
   "source": [
    "train_data.groupby(['Reco_Insurance_Type', 'Response']).size().unstack()"
   ]
  },
  {
   "cell_type": "code",
   "execution_count": 100,
   "metadata": {
    "ExecuteTime": {
     "end_time": "2021-02-28T13:27:03.318039Z",
     "start_time": "2021-02-28T13:27:02.934439Z"
    }
   },
   "outputs": [
    {
     "data": {
      "image/png": "[encoded data removed]",
      "text/plain": [
       "<Figure size 432x288 with 1 Axes>"
      ]
     },
     "metadata": {
      "needs_background": "light"
     },
     "output_type": "display_data"
    }
   ],
   "source": [
    "train_data.groupby([\"Reco_Insurance_Type\", 'Response']).size().unstack().plot(kind = 'bar', stacked = True)\n",
    "plt.show()"
   ]
  },
  {
   "cell_type": "code",
   "execution_count": 101,
   "metadata": {
    "ExecuteTime": {
     "end_time": "2021-02-28T13:27:03.326037Z",
     "start_time": "2021-02-28T13:27:03.318039Z"
    }
   },
   "outputs": [],
   "source": [
    "# individual reco type people has more positive lead"
   ]
  },
  {
   "cell_type": "code",
   "execution_count": 102,
   "metadata": {
    "ExecuteTime": {
     "end_time": "2021-02-28T13:27:03.500937Z",
     "start_time": "2021-02-28T13:27:03.333032Z"
    }
   },
   "outputs": [
    {
     "data": {
      "text/html": [
       "<div>\n",
       "<style scoped>\n",
       "    .dataframe tbody tr th:only-of-type {\n",
       "        vertical-align: middle;\n",
       "    }\n",
       "\n",
       "    .dataframe tbody tr th {\n",
       "        vertical-align: top;\n",
       "    }\n",
       "\n",
       "    .dataframe thead th {\n",
       "        text-align: right;\n",
       "    }\n",
       "</style>\n",
       "<table border=\"1\" class=\"dataframe\">\n",
       "  <thead>\n",
       "    <tr style=\"text-align: right;\">\n",
       "      <th>Response</th>\n",
       "      <th>0.0</th>\n",
       "      <th>1.0</th>\n",
       "    </tr>\n",
       "    <tr>\n",
       "      <th>Is_Spouse</th>\n",
       "      <th></th>\n",
       "      <th></th>\n",
       "    </tr>\n",
       "  </thead>\n",
       "  <tbody>\n",
       "    <tr>\n",
       "      <td>No</td>\n",
       "      <td>14458</td>\n",
       "      <td>4605</td>\n",
       "    </tr>\n",
       "    <tr>\n",
       "      <td>Yes</td>\n",
       "      <td>3390</td>\n",
       "      <td>1095</td>\n",
       "    </tr>\n",
       "  </tbody>\n",
       "</table>\n",
       "</div>"
      ],
      "text/plain": [
       "Response     0.0   1.0\n",
       "Is_Spouse             \n",
       "No         14458  4605\n",
       "Yes         3390  1095"
      ]
     },
     "execution_count": 102,
     "metadata": {},
     "output_type": "execute_result"
    }
   ],
   "source": [
    "train_data.groupby(['Is_Spouse', 'Response']).size().unstack()"
   ]
  },
  {
   "cell_type": "code",
   "execution_count": 103,
   "metadata": {
    "ExecuteTime": {
     "end_time": "2021-02-28T13:27:03.960001Z",
     "start_time": "2021-02-28T13:27:03.505933Z"
    }
   },
   "outputs": [
    {
     "data": {
      "image/png": "[encoded data removed]",
      "text/plain": [
       "<Figure size 432x288 with 1 Axes>"
      ]
     },
     "metadata": {
      "needs_background": "light"
     },
     "output_type": "display_data"
    }
   ],
   "source": [
    "train_data.groupby([\"Is_Spouse\", 'Response']).size().unstack().plot(kind = 'bar', stacked = True)\n",
    "plt.show()"
   ]
  },
  {
   "cell_type": "code",
   "execution_count": 104,
   "metadata": {
    "ExecuteTime": {
     "end_time": "2021-02-28T13:27:03.975620Z",
     "start_time": "2021-02-28T13:27:03.960001Z"
    }
   },
   "outputs": [
    {
     "data": {
      "text/plain": [
       "75    1655\n",
       "28     526\n",
       "25     510\n",
       "27     504\n",
       "26     496\n",
       "52     486\n",
       "54     481\n",
       "55     475\n",
       "29     468\n",
       "48     461\n",
       "24     455\n",
       "59     451\n",
       "30     448\n",
       "57     447\n",
       "56     445\n",
       "58     444\n",
       "31     438\n",
       "42     437\n",
       "61     437\n",
       "53     436\n",
       "51     433\n",
       "46     432\n",
       "44     432\n",
       "35     430\n",
       "32     430\n",
       "41     430\n",
       "43     428\n",
       "49     427\n",
       "50     426\n",
       "65     425\n",
       "60     424\n",
       "33     415\n",
       "66     409\n",
       "45     409\n",
       "47     408\n",
       "63     404\n",
       "40     399\n",
       "70     396\n",
       "34     395\n",
       "64     392\n",
       "36     392\n",
       "39     379\n",
       "62     377\n",
       "38     375\n",
       "37     375\n",
       "23     355\n",
       "67     343\n",
       "69     319\n",
       "68     315\n",
       "71     315\n",
       "72     304\n",
       "73     269\n",
       "22     236\n",
       "74     231\n",
       "21     119\n",
       "Name: Upper_Age, dtype: int64"
      ]
     },
     "execution_count": 104,
     "metadata": {},
     "output_type": "execute_result"
    }
   ],
   "source": [
    "train_data[\"Upper_Age\"].value_counts()"
   ]
  },
  {
   "cell_type": "code",
   "execution_count": 105,
   "metadata": {
    "ExecuteTime": {
     "end_time": "2021-02-28T13:27:04.793283Z",
     "start_time": "2021-02-28T13:27:03.979145Z"
    }
   },
   "outputs": [
    {
     "data": {
      "image/png": "[encoded data removed]",
      "text/plain": [
       "<Figure size 416.25x360 with 1 Axes>"
      ]
     },
     "metadata": {
      "needs_background": "light"
     },
     "output_type": "display_data"
    }
   ],
   "source": [
    "sns.FacetGrid(data = train_data, hue = 'Response', height = 5).map(sns.distplot, 'Upper_Age').add_legend()\n",
    "plt.grid()\n",
    "plt.show()"
   ]
  },
  {
   "cell_type": "code",
   "execution_count": 106,
   "metadata": {
    "ExecuteTime": {
     "end_time": "2021-02-28T13:27:04.809274Z",
     "start_time": "2021-02-28T13:27:04.796279Z"
    }
   },
   "outputs": [
    {
     "data": {
      "text/plain": [
       "75    1242\n",
       "28     589\n",
       "25     575\n",
       "26     563\n",
       "27     556\n",
       "24     523\n",
       "29     516\n",
       "32     473\n",
       "30     473\n",
       "33     463\n",
       "55     462\n",
       "31     453\n",
       "52     452\n",
       "35     447\n",
       "23     445\n",
       "58     428\n",
       "51     420\n",
       "57     420\n",
       "34     419\n",
       "54     416\n",
       "41     414\n",
       "50     413\n",
       "48     412\n",
       "53     409\n",
       "65     409\n",
       "49     408\n",
       "40     407\n",
       "60     402\n",
       "43     398\n",
       "46     398\n",
       "56     397\n",
       "59     394\n",
       "66     394\n",
       "37     389\n",
       "36     389\n",
       "45     389\n",
       "61     389\n",
       "42     387\n",
       "62     385\n",
       "47     382\n",
       "38     381\n",
       "44     381\n",
       "39     371\n",
       "63     367\n",
       "64     364\n",
       "70     348\n",
       "22     341\n",
       "68     308\n",
       "71     292\n",
       "67     291\n",
       "69     275\n",
       "72     245\n",
       "21     229\n",
       "73     229\n",
       "74     205\n",
       "16     144\n",
       "20     129\n",
       "18     120\n",
       "19     116\n",
       "17     112\n",
       "Name: Lower_Age, dtype: int64"
      ]
     },
     "execution_count": 106,
     "metadata": {},
     "output_type": "execute_result"
    }
   ],
   "source": [
    "train_data[\"Lower_Age\"].value_counts()"
   ]
  },
  {
   "cell_type": "code",
   "execution_count": 107,
   "metadata": {
    "ExecuteTime": {
     "end_time": "2021-02-28T13:27:05.422607Z",
     "start_time": "2021-02-28T13:27:04.813272Z"
    }
   },
   "outputs": [
    {
     "data": {
      "image/png": "[encoded data removed]",
      "text/plain": [
       "<Figure size 416.25x360 with 1 Axes>"
      ]
     },
     "metadata": {
      "needs_background": "light"
     },
     "output_type": "display_data"
    }
   ],
   "source": [
    "sns.FacetGrid(data = train_data, hue = 'Response', height = 5).map(sns.distplot, 'Lower_Age').add_legend()\n",
    "plt.grid()\n",
    "plt.show()"
   ]
  },
  {
   "cell_type": "code",
   "execution_count": 108,
   "metadata": {
    "ExecuteTime": {
     "end_time": "2021-02-28T13:27:05.429604Z",
     "start_time": "2021-02-28T13:27:05.425603Z"
    }
   },
   "outputs": [],
   "source": [
    "# Age between 23 and 25 , > 70 have no response to health insurance"
   ]
  },
  {
   "cell_type": "markdown",
   "metadata": {},
   "source": []
  },
  {
   "cell_type": "code",
   "execution_count": 109,
   "metadata": {
    "ExecuteTime": {
     "end_time": "2021-02-28T13:27:05.572839Z",
     "start_time": "2021-02-28T13:27:05.431599Z"
    }
   },
   "outputs": [
    {
     "data": {
      "text/html": [
       "<div>\n",
       "<style scoped>\n",
       "    .dataframe tbody tr th:only-of-type {\n",
       "        vertical-align: middle;\n",
       "    }\n",
       "\n",
       "    .dataframe tbody tr th {\n",
       "        vertical-align: top;\n",
       "    }\n",
       "\n",
       "    .dataframe thead th {\n",
       "        text-align: right;\n",
       "    }\n",
       "</style>\n",
       "<table border=\"1\" class=\"dataframe\">\n",
       "  <thead>\n",
       "    <tr style=\"text-align: right;\">\n",
       "      <th>Response</th>\n",
       "      <th>0.0</th>\n",
       "      <th>1.0</th>\n",
       "    </tr>\n",
       "    <tr>\n",
       "      <th>Health Indicator</th>\n",
       "      <th></th>\n",
       "      <th></th>\n",
       "    </tr>\n",
       "  </thead>\n",
       "  <tbody>\n",
       "    <tr>\n",
       "      <td>X1</td>\n",
       "      <td>5791</td>\n",
       "      <td>1891</td>\n",
       "    </tr>\n",
       "    <tr>\n",
       "      <td>X2</td>\n",
       "      <td>4724</td>\n",
       "      <td>1528</td>\n",
       "    </tr>\n",
       "    <tr>\n",
       "      <td>X3</td>\n",
       "      <td>2997</td>\n",
       "      <td>915</td>\n",
       "    </tr>\n",
       "    <tr>\n",
       "      <td>X4</td>\n",
       "      <td>2753</td>\n",
       "      <td>885</td>\n",
       "    </tr>\n",
       "    <tr>\n",
       "      <td>X5</td>\n",
       "      <td>890</td>\n",
       "      <td>251</td>\n",
       "    </tr>\n",
       "    <tr>\n",
       "      <td>X6</td>\n",
       "      <td>534</td>\n",
       "      <td>166</td>\n",
       "    </tr>\n",
       "    <tr>\n",
       "      <td>X7</td>\n",
       "      <td>90</td>\n",
       "      <td>43</td>\n",
       "    </tr>\n",
       "    <tr>\n",
       "      <td>X8</td>\n",
       "      <td>41</td>\n",
       "      <td>13</td>\n",
       "    </tr>\n",
       "    <tr>\n",
       "      <td>X9</td>\n",
       "      <td>28</td>\n",
       "      <td>8</td>\n",
       "    </tr>\n",
       "  </tbody>\n",
       "</table>\n",
       "</div>"
      ],
      "text/plain": [
       "Response           0.0   1.0\n",
       "Health Indicator            \n",
       "X1                5791  1891\n",
       "X2                4724  1528\n",
       "X3                2997   915\n",
       "X4                2753   885\n",
       "X5                 890   251\n",
       "X6                 534   166\n",
       "X7                  90    43\n",
       "X8                  41    13\n",
       "X9                  28     8"
      ]
     },
     "execution_count": 109,
     "metadata": {},
     "output_type": "execute_result"
    }
   ],
   "source": [
    "train_data.groupby(['Health Indicator', 'Response']).size().unstack()"
   ]
  },
  {
   "cell_type": "code",
   "execution_count": 110,
   "metadata": {
    "ExecuteTime": {
     "end_time": "2021-02-28T13:27:05.971610Z",
     "start_time": "2021-02-28T13:27:05.575838Z"
    }
   },
   "outputs": [
    {
     "data": {
      "image/png": "[encoded data removed]",
      "text/plain": [
       "<Figure size 432x288 with 1 Axes>"
      ]
     },
     "metadata": {
      "needs_background": "light"
     },
     "output_type": "display_data"
    }
   ],
   "source": [
    "train_data.groupby([\"Health Indicator\", 'Response']).size().unstack().plot(kind = 'bar', stacked = True)\n",
    "plt.show()"
   ]
  },
  {
   "cell_type": "code",
   "execution_count": 111,
   "metadata": {
    "ExecuteTime": {
     "end_time": "2021-02-28T13:27:05.982604Z",
     "start_time": "2021-02-28T13:27:05.975609Z"
    }
   },
   "outputs": [],
   "source": [
    "# more response from X1"
   ]
  },
  {
   "cell_type": "code",
   "execution_count": 112,
   "metadata": {
    "ExecuteTime": {
     "end_time": "2021-02-28T13:27:06.149550Z",
     "start_time": "2021-02-28T13:27:05.985602Z"
    }
   },
   "outputs": [
    {
     "data": {
      "text/html": [
       "<div>\n",
       "<style scoped>\n",
       "    .dataframe tbody tr th:only-of-type {\n",
       "        vertical-align: middle;\n",
       "    }\n",
       "\n",
       "    .dataframe tbody tr th {\n",
       "        vertical-align: top;\n",
       "    }\n",
       "\n",
       "    .dataframe thead th {\n",
       "        text-align: right;\n",
       "    }\n",
       "</style>\n",
       "<table border=\"1\" class=\"dataframe\">\n",
       "  <thead>\n",
       "    <tr style=\"text-align: right;\">\n",
       "      <th>Response</th>\n",
       "      <th>0.0</th>\n",
       "      <th>1.0</th>\n",
       "    </tr>\n",
       "    <tr>\n",
       "      <th>Holding_Policy_Duration</th>\n",
       "      <th></th>\n",
       "      <th></th>\n",
       "    </tr>\n",
       "  </thead>\n",
       "  <tbody>\n",
       "    <tr>\n",
       "      <td>1.0</td>\n",
       "      <td>2668</td>\n",
       "      <td>771</td>\n",
       "    </tr>\n",
       "    <tr>\n",
       "      <td>10.0</td>\n",
       "      <td>456</td>\n",
       "      <td>162</td>\n",
       "    </tr>\n",
       "    <tr>\n",
       "      <td>11.0</td>\n",
       "      <td>317</td>\n",
       "      <td>107</td>\n",
       "    </tr>\n",
       "    <tr>\n",
       "      <td>12.0</td>\n",
       "      <td>295</td>\n",
       "      <td>91</td>\n",
       "    </tr>\n",
       "    <tr>\n",
       "      <td>13.0</td>\n",
       "      <td>297</td>\n",
       "      <td>105</td>\n",
       "    </tr>\n",
       "    <tr>\n",
       "      <td>14+</td>\n",
       "      <td>2474</td>\n",
       "      <td>849</td>\n",
       "    </tr>\n",
       "    <tr>\n",
       "      <td>14.0</td>\n",
       "      <td>271</td>\n",
       "      <td>91</td>\n",
       "    </tr>\n",
       "    <tr>\n",
       "      <td>2.0</td>\n",
       "      <td>2542</td>\n",
       "      <td>788</td>\n",
       "    </tr>\n",
       "    <tr>\n",
       "      <td>3.0</td>\n",
       "      <td>2109</td>\n",
       "      <td>647</td>\n",
       "    </tr>\n",
       "    <tr>\n",
       "      <td>4.0</td>\n",
       "      <td>1612</td>\n",
       "      <td>522</td>\n",
       "    </tr>\n",
       "    <tr>\n",
       "      <td>5.0</td>\n",
       "      <td>1406</td>\n",
       "      <td>422</td>\n",
       "    </tr>\n",
       "    <tr>\n",
       "      <td>6.0</td>\n",
       "      <td>1115</td>\n",
       "      <td>350</td>\n",
       "    </tr>\n",
       "    <tr>\n",
       "      <td>7.0</td>\n",
       "      <td>898</td>\n",
       "      <td>322</td>\n",
       "    </tr>\n",
       "    <tr>\n",
       "      <td>8.0</td>\n",
       "      <td>741</td>\n",
       "      <td>266</td>\n",
       "    </tr>\n",
       "    <tr>\n",
       "      <td>9.0</td>\n",
       "      <td>647</td>\n",
       "      <td>207</td>\n",
       "    </tr>\n",
       "  </tbody>\n",
       "</table>\n",
       "</div>"
      ],
      "text/plain": [
       "Response                  0.0  1.0\n",
       "Holding_Policy_Duration           \n",
       "1.0                      2668  771\n",
       "10.0                      456  162\n",
       "11.0                      317  107\n",
       "12.0                      295   91\n",
       "13.0                      297  105\n",
       "14+                      2474  849\n",
       "14.0                      271   91\n",
       "2.0                      2542  788\n",
       "3.0                      2109  647\n",
       "4.0                      1612  522\n",
       "5.0                      1406  422\n",
       "6.0                      1115  350\n",
       "7.0                       898  322\n",
       "8.0                       741  266\n",
       "9.0                       647  207"
      ]
     },
     "execution_count": 112,
     "metadata": {},
     "output_type": "execute_result"
    }
   ],
   "source": [
    "train_data.groupby(['Holding_Policy_Duration', 'Response']).size().unstack()"
   ]
  },
  {
   "cell_type": "code",
   "execution_count": 113,
   "metadata": {
    "ExecuteTime": {
     "end_time": "2021-02-28T13:27:06.554572Z",
     "start_time": "2021-02-28T13:27:06.152548Z"
    }
   },
   "outputs": [
    {
     "data": {
      "image/png": "[encoded data removed]",
      "text/plain": [
       "<Figure size 432x288 with 1 Axes>"
      ]
     },
     "metadata": {
      "needs_background": "light"
     },
     "output_type": "display_data"
    }
   ],
   "source": [
    "train_data.groupby([\"Holding_Policy_Duration\", 'Response']).size().unstack().plot(kind = 'bar', stacked = True)\n",
    "plt.show()"
   ]
  },
  {
   "cell_type": "code",
   "execution_count": 114,
   "metadata": {
    "ExecuteTime": {
     "end_time": "2021-02-28T13:27:06.575561Z",
     "start_time": "2021-02-28T13:27:06.556571Z"
    }
   },
   "outputs": [
    {
     "data": {
      "text/html": [
       "<div>\n",
       "<style scoped>\n",
       "    .dataframe tbody tr th:only-of-type {\n",
       "        vertical-align: middle;\n",
       "    }\n",
       "\n",
       "    .dataframe tbody tr th {\n",
       "        vertical-align: top;\n",
       "    }\n",
       "\n",
       "    .dataframe thead th {\n",
       "        text-align: right;\n",
       "    }\n",
       "</style>\n",
       "<table border=\"1\" class=\"dataframe\">\n",
       "  <thead>\n",
       "    <tr style=\"text-align: right;\">\n",
       "      <th>Response</th>\n",
       "      <th>0.0</th>\n",
       "      <th>1.0</th>\n",
       "    </tr>\n",
       "    <tr>\n",
       "      <th>Holding_Policy_Type</th>\n",
       "      <th></th>\n",
       "      <th></th>\n",
       "    </tr>\n",
       "  </thead>\n",
       "  <tbody>\n",
       "    <tr>\n",
       "      <td>1.0</td>\n",
       "      <td>4779</td>\n",
       "      <td>1528</td>\n",
       "    </tr>\n",
       "    <tr>\n",
       "      <td>2.0</td>\n",
       "      <td>2944</td>\n",
       "      <td>873</td>\n",
       "    </tr>\n",
       "    <tr>\n",
       "      <td>3.0</td>\n",
       "      <td>7753</td>\n",
       "      <td>2484</td>\n",
       "    </tr>\n",
       "    <tr>\n",
       "      <td>4.0</td>\n",
       "      <td>2372</td>\n",
       "      <td>815</td>\n",
       "    </tr>\n",
       "  </tbody>\n",
       "</table>\n",
       "</div>"
      ],
      "text/plain": [
       "Response              0.0   1.0\n",
       "Holding_Policy_Type            \n",
       "1.0                  4779  1528\n",
       "2.0                  2944   873\n",
       "3.0                  7753  2484\n",
       "4.0                  2372   815"
      ]
     },
     "execution_count": 114,
     "metadata": {},
     "output_type": "execute_result"
    }
   ],
   "source": [
    "train_data.groupby(['Holding_Policy_Type', 'Response']).size().unstack()"
   ]
  },
  {
   "cell_type": "code",
   "execution_count": 115,
   "metadata": {
    "ExecuteTime": {
     "end_time": "2021-02-28T13:27:06.887381Z",
     "start_time": "2021-02-28T13:27:06.578558Z"
    }
   },
   "outputs": [
    {
     "data": {
      "image/png": "[encoded data removed]",
      "text/plain": [
       "<Figure size 432x288 with 1 Axes>"
      ]
     },
     "metadata": {
      "needs_background": "light"
     },
     "output_type": "display_data"
    }
   ],
   "source": [
    "train_data.groupby([\"Holding_Policy_Type\", 'Response']).size().unstack().plot(kind = 'bar', stacked = True)\n",
    "plt.show()\n"
   ]
  },
  {
   "cell_type": "code",
   "execution_count": 116,
   "metadata": {
    "ExecuteTime": {
     "end_time": "2021-02-28T13:27:06.913366Z",
     "start_time": "2021-02-28T13:27:06.889380Z"
    }
   },
   "outputs": [
    {
     "data": {
      "text/html": [
       "<div>\n",
       "<style scoped>\n",
       "    .dataframe tbody tr th:only-of-type {\n",
       "        vertical-align: middle;\n",
       "    }\n",
       "\n",
       "    .dataframe tbody tr th {\n",
       "        vertical-align: top;\n",
       "    }\n",
       "\n",
       "    .dataframe thead th {\n",
       "        text-align: right;\n",
       "    }\n",
       "</style>\n",
       "<table border=\"1\" class=\"dataframe\">\n",
       "  <thead>\n",
       "    <tr style=\"text-align: right;\">\n",
       "      <th>Response</th>\n",
       "      <th>0.0</th>\n",
       "      <th>1.0</th>\n",
       "    </tr>\n",
       "    <tr>\n",
       "      <th>Reco_Policy_Cat</th>\n",
       "      <th></th>\n",
       "      <th></th>\n",
       "    </tr>\n",
       "  </thead>\n",
       "  <tbody>\n",
       "    <tr>\n",
       "      <td>1</td>\n",
       "      <td>941</td>\n",
       "      <td>3</td>\n",
       "    </tr>\n",
       "    <tr>\n",
       "      <td>2</td>\n",
       "      <td>710</td>\n",
       "      <td>117</td>\n",
       "    </tr>\n",
       "    <tr>\n",
       "      <td>3</td>\n",
       "      <td>390</td>\n",
       "      <td>98</td>\n",
       "    </tr>\n",
       "    <tr>\n",
       "      <td>4</td>\n",
       "      <td>397</td>\n",
       "      <td>39</td>\n",
       "    </tr>\n",
       "    <tr>\n",
       "      <td>5</td>\n",
       "      <td>328</td>\n",
       "      <td>138</td>\n",
       "    </tr>\n",
       "    <tr>\n",
       "      <td>6</td>\n",
       "      <td>317</td>\n",
       "      <td>57</td>\n",
       "    </tr>\n",
       "    <tr>\n",
       "      <td>7</td>\n",
       "      <td>310</td>\n",
       "      <td>70</td>\n",
       "    </tr>\n",
       "    <tr>\n",
       "      <td>8</td>\n",
       "      <td>266</td>\n",
       "      <td>100</td>\n",
       "    </tr>\n",
       "    <tr>\n",
       "      <td>9</td>\n",
       "      <td>309</td>\n",
       "      <td>61</td>\n",
       "    </tr>\n",
       "    <tr>\n",
       "      <td>10</td>\n",
       "      <td>293</td>\n",
       "      <td>58</td>\n",
       "    </tr>\n",
       "    <tr>\n",
       "      <td>11</td>\n",
       "      <td>303</td>\n",
       "      <td>66</td>\n",
       "    </tr>\n",
       "    <tr>\n",
       "      <td>12</td>\n",
       "      <td>672</td>\n",
       "      <td>288</td>\n",
       "    </tr>\n",
       "    <tr>\n",
       "      <td>13</td>\n",
       "      <td>614</td>\n",
       "      <td>161</td>\n",
       "    </tr>\n",
       "    <tr>\n",
       "      <td>14</td>\n",
       "      <td>577</td>\n",
       "      <td>178</td>\n",
       "    </tr>\n",
       "    <tr>\n",
       "      <td>15</td>\n",
       "      <td>370</td>\n",
       "      <td>323</td>\n",
       "    </tr>\n",
       "    <tr>\n",
       "      <td>16</td>\n",
       "      <td>1445</td>\n",
       "      <td>416</td>\n",
       "    </tr>\n",
       "    <tr>\n",
       "      <td>17</td>\n",
       "      <td>1243</td>\n",
       "      <td>543</td>\n",
       "    </tr>\n",
       "    <tr>\n",
       "      <td>18</td>\n",
       "      <td>2006</td>\n",
       "      <td>636</td>\n",
       "    </tr>\n",
       "    <tr>\n",
       "      <td>19</td>\n",
       "      <td>1287</td>\n",
       "      <td>465</td>\n",
       "    </tr>\n",
       "    <tr>\n",
       "      <td>20</td>\n",
       "      <td>1081</td>\n",
       "      <td>366</td>\n",
       "    </tr>\n",
       "    <tr>\n",
       "      <td>21</td>\n",
       "      <td>1923</td>\n",
       "      <td>455</td>\n",
       "    </tr>\n",
       "    <tr>\n",
       "      <td>22</td>\n",
       "      <td>2066</td>\n",
       "      <td>1062</td>\n",
       "    </tr>\n",
       "  </tbody>\n",
       "</table>\n",
       "</div>"
      ],
      "text/plain": [
       "Response          0.0   1.0\n",
       "Reco_Policy_Cat            \n",
       "1                 941     3\n",
       "2                 710   117\n",
       "3                 390    98\n",
       "4                 397    39\n",
       "5                 328   138\n",
       "6                 317    57\n",
       "7                 310    70\n",
       "8                 266   100\n",
       "9                 309    61\n",
       "10                293    58\n",
       "11                303    66\n",
       "12                672   288\n",
       "13                614   161\n",
       "14                577   178\n",
       "15                370   323\n",
       "16               1445   416\n",
       "17               1243   543\n",
       "18               2006   636\n",
       "19               1287   465\n",
       "20               1081   366\n",
       "21               1923   455\n",
       "22               2066  1062"
      ]
     },
     "execution_count": 116,
     "metadata": {},
     "output_type": "execute_result"
    }
   ],
   "source": [
    "train_data.groupby(['Reco_Policy_Cat', 'Response']).size().unstack()"
   ]
  },
  {
   "cell_type": "code",
   "execution_count": 117,
   "metadata": {
    "ExecuteTime": {
     "end_time": "2021-02-28T13:27:07.348119Z",
     "start_time": "2021-02-28T13:27:06.915366Z"
    }
   },
   "outputs": [
    {
     "data": {
      "image/png": "[encoded data removed]",
      "text/plain": [
       "<Figure size 432x288 with 1 Axes>"
      ]
     },
     "metadata": {
      "needs_background": "light"
     },
     "output_type": "display_data"
    }
   ],
   "source": [
    "train_data.groupby([\"Reco_Policy_Cat\", 'Response']).size().unstack().plot(kind = 'bar', stacked = True)\n",
    "plt.show()"
   ]
  },
  {
   "cell_type": "code",
   "execution_count": 118,
   "metadata": {
    "ExecuteTime": {
     "end_time": "2021-02-28T13:27:07.973542Z",
     "start_time": "2021-02-28T13:27:07.350116Z"
    }
   },
   "outputs": [
    {
     "data": {
      "image/png": "[encoded data removed]",
      "text/plain": [
       "<Figure size 416.25x360 with 1 Axes>"
      ]
     },
     "metadata": {
      "needs_background": "light"
     },
     "output_type": "display_data"
    }
   ],
   "source": [
    "# more response from 12 \n",
    "sns.FacetGrid(data = train_data, hue = 'Response', height = 5).map(sns.distplot, 'Reco_Policy_Cat').add_legend()\n",
    "plt.grid()\n",
    "plt.show()"
   ]
  },
  {
   "cell_type": "raw",
   "metadata": {},
   "source": [
    "# reco policy premium "
   ]
  },
  {
   "cell_type": "code",
   "execution_count": 119,
   "metadata": {
    "ExecuteTime": {
     "end_time": "2021-02-28T13:27:07.989553Z",
     "start_time": "2021-02-28T13:27:07.975543Z"
    }
   },
   "outputs": [
    {
     "data": {
      "text/plain": [
       "count    23548.000000\n",
       "mean     15409.000161\n",
       "std       6416.327319\n",
       "min       3216.000000\n",
       "25%      10704.000000\n",
       "50%      14580.000000\n",
       "75%      19140.000000\n",
       "max      43350.400000\n",
       "Name: Reco_Policy_Premium, dtype: float64"
      ]
     },
     "execution_count": 119,
     "metadata": {},
     "output_type": "execute_result"
    }
   ],
   "source": [
    "train_data['Reco_Policy_Premium'].describe()"
   ]
  },
  {
   "cell_type": "code",
   "execution_count": 120,
   "metadata": {
    "ExecuteTime": {
     "end_time": "2021-02-28T13:27:08.110796Z",
     "start_time": "2021-02-28T13:27:07.991533Z"
    }
   },
   "outputs": [
    {
     "data": {
      "text/plain": [
       "array([24188.08 , 24760.624, 25401.6  , 26079.564, 26843.472, 27704.34 ,\n",
       "       28806.4  , 29988.   , 31290.18 , 33339.68 , 43350.4  ])"
      ]
     },
     "execution_count": 120,
     "metadata": {},
     "output_type": "execute_result"
    }
   ],
   "source": [
    "np.percentile(train_data['Reco_Policy_Premium'], np.arange(90, 101))"
   ]
  },
  {
   "cell_type": "code",
   "execution_count": 121,
   "metadata": {
    "ExecuteTime": {
     "end_time": "2021-02-28T13:27:08.258692Z",
     "start_time": "2021-02-28T13:27:08.112777Z"
    }
   },
   "outputs": [
    {
     "data": {
      "text/plain": [
       "15288.0    29\n",
       "16128.0    28\n",
       "15600.0    28\n",
       "10224.0    28\n",
       "17640.0    28\n",
       "           ..\n",
       "25056.0     1\n",
       "23776.0     1\n",
       "19612.8     1\n",
       "7540.0      1\n",
       "20174.0     1\n",
       "Name: Reco_Policy_Premium, Length: 5417, dtype: int64"
      ]
     },
     "execution_count": 121,
     "metadata": {},
     "output_type": "execute_result"
    }
   ],
   "source": [
    "train_data['Reco_Policy_Premium'].value_counts()"
   ]
  },
  {
   "cell_type": "code",
   "execution_count": 122,
   "metadata": {
    "ExecuteTime": {
     "end_time": "2021-02-28T13:27:08.397973Z",
     "start_time": "2021-02-28T13:27:08.260690Z"
    }
   },
   "outputs": [
    {
     "data": {
      "text/plain": [
       "39178.37160000038"
      ]
     },
     "execution_count": 122,
     "metadata": {},
     "output_type": "execute_result"
    }
   ],
   "source": [
    "np.percentile(train_data['Reco_Policy_Premium'], 99.9)"
   ]
  },
  {
   "cell_type": "code",
   "execution_count": 123,
   "metadata": {
    "ExecuteTime": {
     "end_time": "2021-02-28T13:27:08.542322Z",
     "start_time": "2021-02-28T13:27:08.399954Z"
    }
   },
   "outputs": [
    {
     "data": {
      "text/plain": [
       "33339.67999999998"
      ]
     },
     "execution_count": 123,
     "metadata": {},
     "output_type": "execute_result"
    }
   ],
   "source": [
    "np.percentile(train_data['Reco_Policy_Premium'], 99)"
   ]
  },
  {
   "cell_type": "code",
   "execution_count": 124,
   "metadata": {
    "ExecuteTime": {
     "end_time": "2021-02-28T13:27:08.663519Z",
     "start_time": "2021-02-28T13:27:08.545321Z"
    }
   },
   "outputs": [
    {
     "data": {
      "text/plain": [
       "array([23104.   , 23605.568, 24164.48 , 24843.456, 25614.624, 26602.8  ,\n",
       "       27694.464, 28741.2  , 30191.432, 32536.688, 43776.   ])"
      ]
     },
     "execution_count": 124,
     "metadata": {},
     "output_type": "execute_result"
    }
   ],
   "source": [
    "np.percentile(test_data['Reco_Policy_Premium'], np.arange(90, 101))"
   ]
  },
  {
   "cell_type": "code",
   "execution_count": 125,
   "metadata": {
    "ExecuteTime": {
     "end_time": "2021-02-28T13:27:08.806633Z",
     "start_time": "2021-02-28T13:27:08.665499Z"
    }
   },
   "outputs": [
    {
     "data": {
      "text/plain": [
       "38022.72400000007"
      ]
     },
     "execution_count": 125,
     "metadata": {},
     "output_type": "execute_result"
    }
   ],
   "source": [
    "np.percentile(test_data['Reco_Policy_Premium'], 99.9)"
   ]
  },
  {
   "cell_type": "code",
   "execution_count": 126,
   "metadata": {
    "ExecuteTime": {
     "end_time": "2021-02-28T13:27:09.477709Z",
     "start_time": "2021-02-28T13:27:08.808612Z"
    }
   },
   "outputs": [
    {
     "data": {
      "image/png": "[encoded data removed]",
      "text/plain": [
       "<Figure size 416.25x360 with 1 Axes>"
      ]
     },
     "metadata": {
      "needs_background": "light"
     },
     "output_type": "display_data"
    }
   ],
   "source": [
    "# how does annual premium influence response\n",
    "\n",
    "sns.FacetGrid(data = train_data, hue = 'Response', height = 5).map(sns.distplot, 'Reco_Policy_Premium').add_legend()\n",
    "plt.show()"
   ]
  },
  {
   "cell_type": "code",
   "execution_count": 127,
   "metadata": {
    "ExecuteTime": {
     "end_time": "2021-02-28T13:27:09.485703Z",
     "start_time": "2021-02-28T13:27:09.480706Z"
    }
   },
   "outputs": [],
   "source": [
    "# there is a little variation between 10000 and 20000"
   ]
  },
  {
   "cell_type": "code",
   "execution_count": 128,
   "metadata": {
    "ExecuteTime": {
     "end_time": "2021-02-28T13:27:09.663834Z",
     "start_time": "2021-02-28T13:27:09.488702Z"
    }
   },
   "outputs": [
    {
     "data": {
      "text/plain": [
       "1       47\n",
       "4       41\n",
       "5       38\n",
       "6       36\n",
       "10      35\n",
       "        ..\n",
       "3477     1\n",
       "5439     1\n",
       "5526     1\n",
       "5455     1\n",
       "6103     1\n",
       "Name: Region_Code, Length: 4760, dtype: int64"
      ]
     },
     "execution_count": 128,
     "metadata": {},
     "output_type": "execute_result"
    }
   ],
   "source": [
    "train_data[\"Region_Code\"].value_counts()"
   ]
  },
  {
   "cell_type": "code",
   "execution_count": 129,
   "metadata": {
    "ExecuteTime": {
     "end_time": "2021-02-28T13:27:10.260841Z",
     "start_time": "2021-02-28T13:27:09.665811Z"
    }
   },
   "outputs": [
    {
     "data": {
      "image/png": "[encoded data removed]",
      "text/plain": [
       "<Figure size 416.25x360 with 1 Axes>"
      ]
     },
     "metadata": {
      "needs_background": "light"
     },
     "output_type": "display_data"
    }
   ],
   "source": [
    "\n",
    "sns.FacetGrid(data = train_data, hue = 'Response', height = 5).map(sns.distplot, 'Region_Code').add_legend()\n",
    "plt.show()"
   ]
  },
  {
   "cell_type": "code",
   "execution_count": 130,
   "metadata": {
    "ExecuteTime": {
     "end_time": "2021-02-28T13:27:10.274832Z",
     "start_time": "2021-02-28T13:27:10.262839Z"
    }
   },
   "outputs": [
    {
     "data": {
      "text/plain": [
       "C1     4397\n",
       "C2     3800\n",
       "C3     2249\n",
       "C4     1577\n",
       "C9      932\n",
       "C7      902\n",
       "C8      843\n",
       "C6      831\n",
       "C10     764\n",
       "C5      615\n",
       "C15     576\n",
       "C17     533\n",
       "C11     515\n",
       "C16     456\n",
       "C20     435\n",
       "C13     431\n",
       "C19     407\n",
       "C12     396\n",
       "C18     351\n",
       "C21     351\n",
       "C14     335\n",
       "C24     290\n",
       "C23     244\n",
       "C22     227\n",
       "C26     225\n",
       "C29     168\n",
       "C25     165\n",
       "C28     131\n",
       "C27     116\n",
       "C33     103\n",
       "C32      59\n",
       "C34      51\n",
       "C30      27\n",
       "C35      24\n",
       "C36      15\n",
       "C31       7\n",
       "Name: City_Code, dtype: int64"
      ]
     },
     "execution_count": 130,
     "metadata": {},
     "output_type": "execute_result"
    }
   ],
   "source": [
    "train_data[\"City_Code\"].value_counts()"
   ]
  },
  {
   "cell_type": "code",
   "execution_count": 131,
   "metadata": {
    "ExecuteTime": {
     "end_time": "2021-02-28T13:27:10.834592Z",
     "start_time": "2021-02-28T13:27:10.277830Z"
    }
   },
   "outputs": [
    {
     "data": {
      "image/png": "[encoded data removed]",
      "text/plain": [
       "<Figure size 432x288 with 1 Axes>"
      ]
     },
     "metadata": {
      "needs_background": "light"
     },
     "output_type": "display_data"
    }
   ],
   "source": [
    "train_data.groupby([\"City_Code\", 'Response']).size().unstack().plot(kind = 'bar', stacked = True)\n",
    "plt.show()"
   ]
  },
  {
   "cell_type": "markdown",
   "metadata": {},
   "source": [
    "#  Data Cleaning and Pre-processing\n"
   ]
  },
  {
   "cell_type": "code",
   "execution_count": 132,
   "metadata": {
    "ExecuteTime": {
     "end_time": "2021-02-28T13:27:10.854584Z",
     "start_time": "2021-02-28T13:27:10.837590Z"
    },
    "scrolled": true
   },
   "outputs": [
    {
     "data": {
      "text/html": [
       "<div>\n",
       "<style scoped>\n",
       "    .dataframe tbody tr th:only-of-type {\n",
       "        vertical-align: middle;\n",
       "    }\n",
       "\n",
       "    .dataframe tbody tr th {\n",
       "        vertical-align: top;\n",
       "    }\n",
       "\n",
       "    .dataframe thead th {\n",
       "        text-align: right;\n",
       "    }\n",
       "</style>\n",
       "<table border=\"1\" class=\"dataframe\">\n",
       "  <thead>\n",
       "    <tr style=\"text-align: right;\">\n",
       "      <th></th>\n",
       "      <th>Accomodation_Type</th>\n",
       "      <th>City_Code</th>\n",
       "      <th>Health Indicator</th>\n",
       "      <th>Holding_Policy_Duration</th>\n",
       "      <th>Holding_Policy_Type</th>\n",
       "      <th>ID</th>\n",
       "      <th>Is_Spouse</th>\n",
       "      <th>Lower_Age</th>\n",
       "      <th>Reco_Insurance_Type</th>\n",
       "      <th>Reco_Policy_Cat</th>\n",
       "      <th>Reco_Policy_Premium</th>\n",
       "      <th>Region_Code</th>\n",
       "      <th>Response</th>\n",
       "      <th>Upper_Age</th>\n",
       "    </tr>\n",
       "  </thead>\n",
       "  <tbody>\n",
       "    <tr>\n",
       "      <td>0</td>\n",
       "      <td>Rented</td>\n",
       "      <td>C3</td>\n",
       "      <td>X1</td>\n",
       "      <td>14+</td>\n",
       "      <td>3.0</td>\n",
       "      <td>1</td>\n",
       "      <td>No</td>\n",
       "      <td>36</td>\n",
       "      <td>Individual</td>\n",
       "      <td>22</td>\n",
       "      <td>11628.0</td>\n",
       "      <td>3213</td>\n",
       "      <td>0.0</td>\n",
       "      <td>36</td>\n",
       "    </tr>\n",
       "    <tr>\n",
       "      <td>3</td>\n",
       "      <td>Owned</td>\n",
       "      <td>C24</td>\n",
       "      <td>X1</td>\n",
       "      <td>14+</td>\n",
       "      <td>3.0</td>\n",
       "      <td>4</td>\n",
       "      <td>No</td>\n",
       "      <td>48</td>\n",
       "      <td>Joint</td>\n",
       "      <td>19</td>\n",
       "      <td>17780.0</td>\n",
       "      <td>4378</td>\n",
       "      <td>0.0</td>\n",
       "      <td>52</td>\n",
       "    </tr>\n",
       "    <tr>\n",
       "      <td>4</td>\n",
       "      <td>Rented</td>\n",
       "      <td>C8</td>\n",
       "      <td>X2</td>\n",
       "      <td>3.0</td>\n",
       "      <td>1.0</td>\n",
       "      <td>5</td>\n",
       "      <td>No</td>\n",
       "      <td>44</td>\n",
       "      <td>Individual</td>\n",
       "      <td>16</td>\n",
       "      <td>10404.0</td>\n",
       "      <td>2190</td>\n",
       "      <td>0.0</td>\n",
       "      <td>44</td>\n",
       "    </tr>\n",
       "    <tr>\n",
       "      <td>5</td>\n",
       "      <td>Rented</td>\n",
       "      <td>C9</td>\n",
       "      <td>X2</td>\n",
       "      <td>5.0</td>\n",
       "      <td>1.0</td>\n",
       "      <td>6</td>\n",
       "      <td>No</td>\n",
       "      <td>52</td>\n",
       "      <td>Individual</td>\n",
       "      <td>22</td>\n",
       "      <td>15264.0</td>\n",
       "      <td>1785</td>\n",
       "      <td>1.0</td>\n",
       "      <td>52</td>\n",
       "    </tr>\n",
       "    <tr>\n",
       "      <td>7</td>\n",
       "      <td>Owned</td>\n",
       "      <td>C1</td>\n",
       "      <td>X4</td>\n",
       "      <td>9.0</td>\n",
       "      <td>4.0</td>\n",
       "      <td>8</td>\n",
       "      <td>Yes</td>\n",
       "      <td>73</td>\n",
       "      <td>Joint</td>\n",
       "      <td>17</td>\n",
       "      <td>29344.0</td>\n",
       "      <td>3175</td>\n",
       "      <td>1.0</td>\n",
       "      <td>75</td>\n",
       "    </tr>\n",
       "  </tbody>\n",
       "</table>\n",
       "</div>"
      ],
      "text/plain": [
       "  Accomodation_Type City_Code Health Indicator Holding_Policy_Duration  \\\n",
       "0            Rented        C3               X1                     14+   \n",
       "3             Owned       C24               X1                     14+   \n",
       "4            Rented        C8               X2                     3.0   \n",
       "5            Rented        C9               X2                     5.0   \n",
       "7             Owned        C1               X4                     9.0   \n",
       "\n",
       "   Holding_Policy_Type  ID Is_Spouse  Lower_Age Reco_Insurance_Type  \\\n",
       "0                  3.0   1        No         36          Individual   \n",
       "3                  3.0   4        No         48               Joint   \n",
       "4                  1.0   5        No         44          Individual   \n",
       "5                  1.0   6        No         52          Individual   \n",
       "7                  4.0   8       Yes         73               Joint   \n",
       "\n",
       "   Reco_Policy_Cat  Reco_Policy_Premium  Region_Code  Response  Upper_Age  \n",
       "0               22              11628.0         3213       0.0         36  \n",
       "3               19              17780.0         4378       0.0         52  \n",
       "4               16              10404.0         2190       0.0         44  \n",
       "5               22              15264.0         1785       1.0         52  \n",
       "7               17              29344.0         3175       1.0         75  "
      ]
     },
     "execution_count": 132,
     "metadata": {},
     "output_type": "execute_result"
    }
   ],
   "source": [
    "train_data.head()"
   ]
  },
  {
   "cell_type": "code",
   "execution_count": 133,
   "metadata": {
    "ExecuteTime": {
     "end_time": "2021-02-28T13:27:11.013618Z",
     "start_time": "2021-02-28T13:27:10.857578Z"
    }
   },
   "outputs": [
    {
     "data": {
      "text/plain": [
       "X1    5614\n",
       "X2    4516\n",
       "X3    2846\n",
       "X4    2442\n",
       "X5     681\n",
       "X6     514\n",
       "X7      96\n",
       "X8      41\n",
       "X9      28\n",
       "Name: Health Indicator, dtype: int64"
      ]
     },
     "execution_count": 133,
     "metadata": {},
     "output_type": "execute_result"
    }
   ],
   "source": [
    "test_data[\"Health Indicator\"].value_counts()"
   ]
  },
  {
   "cell_type": "code",
   "execution_count": 191,
   "metadata": {
    "ExecuteTime": {
     "end_time": "2021-02-28T13:38:11.762578Z",
     "start_time": "2021-02-28T13:38:11.730533Z"
    }
   },
   "outputs": [
    {
     "name": "stdout",
     "output_type": "stream",
     "text": [
      "<class 'pandas.core.frame.DataFrame'>\n",
      "RangeIndex: 21805 entries, 0 to 21804\n",
      "Data columns (total 13 columns):\n",
      "ID                         21805 non-null int64\n",
      "City_Code                  21805 non-null object\n",
      "Region_Code                21805 non-null int64\n",
      "Accomodation_Type          21805 non-null object\n",
      "Reco_Insurance_Type        21805 non-null object\n",
      "Upper_Age                  21805 non-null int64\n",
      "Lower_Age                  21805 non-null int64\n",
      "Is_Spouse                  21805 non-null object\n",
      "Health Indicator           21805 non-null object\n",
      "Holding_Policy_Duration    21805 non-null object\n",
      "Holding_Policy_Type        21805 non-null float64\n",
      "Reco_Policy_Cat            21805 non-null int64\n",
      "Reco_Policy_Premium        21805 non-null float64\n",
      "dtypes: float64(2), int64(5), object(6)\n",
      "memory usage: 2.2+ MB\n"
     ]
    }
   ],
   "source": [
    "test_data[\"Health Indicator\"]=test_data[\"Health Indicator\"].fillna(\"X1\")\n",
    "test_data[\"Holding_Policy_Duration\"]=test_data[\"Holding_Policy_Duration\"].fillna(\"14+\")\n",
    "test_data[\"Holding_Policy_Type\"]=test_data[\"Holding_Policy_Type\"].fillna(3.0)\n",
    "test_data.info()"
   ]
  },
  {
   "cell_type": "code",
   "execution_count": 192,
   "metadata": {
    "ExecuteTime": {
     "end_time": "2021-02-28T13:38:15.677768Z",
     "start_time": "2021-02-28T13:38:15.638793Z"
    }
   },
   "outputs": [
    {
     "name": "stdout",
     "output_type": "stream",
     "text": [
      "(23548, 1)\n",
      "(21805, 1)\n"
     ]
    }
   ],
   "source": [
    "# Accomodation\n",
    "\n",
    "X_acc = train_data['Accomodation_Type'].apply(lambda x: 1 if x == 'Owned' else 0)\n",
    "X_acc = X_acc.values.reshape(-1, 1)\n",
    "print(X_acc.shape)\n",
    "acc=pd.DataFrame(X_acc)\n",
    "X_test_acc = test_data['Accomodation_Type'].apply(lambda x: 1 if x == 'Owned' else 0)\n",
    "X_test_acc = X_test_acc.values.reshape(-1, 1)\n",
    "print(X_test_acc.shape)"
   ]
  },
  {
   "cell_type": "code",
   "execution_count": 193,
   "metadata": {
    "ExecuteTime": {
     "end_time": "2021-02-28T13:38:17.544869Z",
     "start_time": "2021-02-28T13:38:17.504894Z"
    },
    "scrolled": true
   },
   "outputs": [
    {
     "name": "stdout",
     "output_type": "stream",
     "text": [
      "(23548, 1)\n",
      "(21805, 1)\n"
     ]
    }
   ],
   "source": [
    "#Reco_Insurance_Type\n",
    "X_train_Reco_Insurance_Type = train_data['Reco_Insurance_Type'].apply(lambda x: 1 if x == 'Individual' else 0)\n",
    "X_train_Reco_Insurance_Type = X_train_Reco_Insurance_Type.values.reshape(-1, 1)\n",
    "print(X_train_Reco_Insurance_Type.shape)\n",
    "X_test_Reco_Insurance_Type = test_data['Reco_Insurance_Type'].apply(lambda x: 1 if x == 'Individual' else 0)\n",
    "X_test_Reco_Insurance_Type = X_test_Reco_Insurance_Type.values.reshape(-1, 1)\n",
    "print(X_test_Reco_Insurance_Type.shape)\n"
   ]
  },
  {
   "cell_type": "code",
   "execution_count": 194,
   "metadata": {
    "ExecuteTime": {
     "end_time": "2021-02-28T13:38:23.846298Z",
     "start_time": "2021-02-28T13:38:23.802303Z"
    }
   },
   "outputs": [
    {
     "name": "stdout",
     "output_type": "stream",
     "text": [
      "(23548, 1)\n",
      "(21805, 1)\n"
     ]
    }
   ],
   "source": [
    "# Is_Spouse\n",
    "# train data\n",
    "X_train_Is_Spouse = train_data['Is_Spouse'].apply(lambda x: 1 if x == 'No' else 0)\n",
    "X_train_Is_Spouse = X_train_Is_Spouse.values.reshape(-1, 1)\n",
    "print(X_train_Is_Spouse.shape)\n",
    "X_test_Is_Spouse = test_data['Is_Spouse'].apply(lambda x: 1 if x == 'No' else 0)\n",
    "X_test_Is_Spouse = X_test_Is_Spouse.values.reshape(-1, 1)\n",
    "print(X_test_Is_Spouse.shape)"
   ]
  },
  {
   "cell_type": "code",
   "execution_count": 232,
   "metadata": {
    "ExecuteTime": {
     "end_time": "2021-02-28T13:49:38.256011Z",
     "start_time": "2021-02-28T13:49:38.242019Z"
    }
   },
   "outputs": [
    {
     "name": "stdout",
     "output_type": "stream",
     "text": [
      "(23548, 1)\n",
      "(21805, 1)\n"
     ]
    }
   ],
   "source": [
    "from sklearn.preprocessing import MinMaxScaler\n",
    "# upper age scalar\n",
    "scaler = MinMaxScaler()\n",
    "scaler.fit(train_data['Upper_Age'].values.reshape(-1, 1))\n",
    "X_train_Upper_age = scaler.transform(train_data['Upper_Age'].values.reshape(-1, 1))\n",
    "X_test_Upper_age = scaler.transform(test_data['Upper_Age'].values.reshape(-1, 1))\n",
    "\n",
    "print(X_train_Upper_age.shape)\n",
    "print(X_test_Upper_age.shape)\n",
    "d=pd.DataFrame(X_train_Upper_age)"
   ]
  },
  {
   "cell_type": "code",
   "execution_count": 196,
   "metadata": {
    "ExecuteTime": {
     "end_time": "2021-02-28T13:38:24.113126Z",
     "start_time": "2021-02-28T13:38:23.985198Z"
    }
   },
   "outputs": [
    {
     "name": "stdout",
     "output_type": "stream",
     "text": [
      "(23548, 1)\n",
      "(21805, 1)\n"
     ]
    }
   ],
   "source": [
    "X_train_U_age_n = train_data['Upper_Age'].values.reshape(-1, 1)\n",
    "X_test_U_age_n = test_data['Upper_Age'].values.reshape(-1, 1)\n",
    "# upper age numerical\n",
    "print(X_train_U_age_n.shape)\n",
    "print(X_test_U_age_n.shape)"
   ]
  },
  {
   "cell_type": "code",
   "execution_count": 197,
   "metadata": {
    "ExecuteTime": {
     "end_time": "2021-02-28T13:38:24.258619Z",
     "start_time": "2021-02-28T13:38:24.116123Z"
    }
   },
   "outputs": [
    {
     "name": "stdout",
     "output_type": "stream",
     "text": [
      "(23548, 1)\n",
      "(21805, 1)\n"
     ]
    }
   ],
   "source": [
    "from sklearn.preprocessing import MinMaxScaler\n",
    "#lower age scalar\n",
    "scaler = MinMaxScaler()\n",
    "scaler.fit(train_data['Lower_Age'].values.reshape(-1, 1))\n",
    "X_train_Lower_age = scaler.transform(train_data['Lower_Age'].values.reshape(-1, 1))\n",
    "X_test_Lower_age = scaler.transform(test_data['Lower_Age'].values.reshape(-1, 1))\n",
    "\n",
    "print(X_train_Lower_age.shape)\n",
    "print(X_test_Lower_age.shape)\n",
    "e=pd.DataFrame(X_train_Lower_age)"
   ]
  },
  {
   "cell_type": "code",
   "execution_count": 198,
   "metadata": {
    "ExecuteTime": {
     "end_time": "2021-02-28T13:38:24.402556Z",
     "start_time": "2021-02-28T13:38:24.262616Z"
    }
   },
   "outputs": [
    {
     "name": "stdout",
     "output_type": "stream",
     "text": [
      "(23548, 1)\n",
      "(21805, 1)\n"
     ]
    }
   ],
   "source": [
    "X_train_L_age_n = train_data['Lower_Age'].values.reshape(-1, 1)\n",
    "X_test_L_age_n = test_data['Lower_Age'].values.reshape(-1, 1)\n",
    "# lower age numerical\n",
    "print(X_train_L_age_n.shape)\n",
    "print(X_test_L_age_n.shape)"
   ]
  },
  {
   "cell_type": "code",
   "execution_count": 199,
   "metadata": {
    "ExecuteTime": {
     "end_time": "2021-02-28T13:38:26.158470Z",
     "start_time": "2021-02-28T13:38:24.406533Z"
    }
   },
   "outputs": [
    {
     "name": "stdout",
     "output_type": "stream",
     "text": [
      "(23548, 36)\n",
      "(21805, 36)\n"
     ]
    }
   ],
   "source": [
    "# one-hot encoding 'Region code'\n",
    "from sklearn.preprocessing import OneHotEncoder\n",
    "encoder = OneHotEncoder()\n",
    "encoder.fit(train_data['City_Code'].values.reshape(-1, 1))\n",
    "# region code scalar\n",
    "X_train_City_code = encoder.transform(train_data['City_Code'].values.reshape(-1, 1))\n",
    "X_test_City_code = encoder.transform(test_data['City_Code'].values.reshape(-1, 1))\n",
    "\n",
    "print(X_train_City_code.shape)\n",
    "print(X_test_City_code.shape)\n",
    "f=pd.DataFrame(X_train_City_code)\n"
   ]
  },
  {
   "cell_type": "code",
   "execution_count": 200,
   "metadata": {
    "ExecuteTime": {
     "end_time": "2021-02-28T13:38:26.172464Z",
     "start_time": "2021-02-28T13:38:26.161468Z"
    }
   },
   "outputs": [],
   "source": [
    "def get_feat_dict(feature):\n",
    "    value_count = train_data[feature].value_counts() # value counts of each feature\n",
    "    my_dict = dict()  # initialize a dictionary\n",
    "    for i, denominator in value_count.items():\n",
    "        class_count = train_data[(train_data['Response'] == 1) & (train_data[feature] == i)]\n",
    "        my_dict[i] = round((class_count.shape[0]/denominator), 6)\n",
    "    return my_dict"
   ]
  },
  {
   "cell_type": "code",
   "execution_count": 201,
   "metadata": {
    "ExecuteTime": {
     "end_time": "2021-02-28T13:38:26.546376Z",
     "start_time": "2021-02-28T13:38:26.179458Z"
    }
   },
   "outputs": [
    {
     "data": {
      "text/plain": [
       "{'C1': 0.246759,\n",
       " 'C2': 0.252105,\n",
       " 'C3': 0.241885,\n",
       " 'C4': 0.247305,\n",
       " 'C9': 0.223176,\n",
       " 'C7': 0.251663,\n",
       " 'C8': 0.241993,\n",
       " 'C6': 0.246691,\n",
       " 'C10': 0.229058,\n",
       " 'C5': 0.239024,\n",
       " 'C15': 0.21875,\n",
       " 'C17': 0.236398,\n",
       " 'C11': 0.262136,\n",
       " 'C16': 0.252193,\n",
       " 'C20': 0.227586,\n",
       " 'C13': 0.25058,\n",
       " 'C19': 0.218673,\n",
       " 'C12': 0.194444,\n",
       " 'C18': 0.233618,\n",
       " 'C21': 0.225071,\n",
       " 'C14': 0.253731,\n",
       " 'C24': 0.213793,\n",
       " 'C23': 0.20082,\n",
       " 'C22': 0.246696,\n",
       " 'C26': 0.213333,\n",
       " 'C29': 0.25,\n",
       " 'C25': 0.266667,\n",
       " 'C28': 0.251908,\n",
       " 'C27': 0.241379,\n",
       " 'C33': 0.252427,\n",
       " 'C32': 0.254237,\n",
       " 'C34': 0.27451,\n",
       " 'C30': 0.259259,\n",
       " 'C35': 0.333333,\n",
       " 'C36': 0.2,\n",
       " 'C31': 0.142857}"
      ]
     },
     "execution_count": 201,
     "metadata": {},
     "output_type": "execute_result"
    }
   ],
   "source": [
    "City_code_dict = get_feat_dict('City_Code')\n",
    "City_code_dict\n"
   ]
  },
  {
   "cell_type": "code",
   "execution_count": 202,
   "metadata": {
    "ExecuteTime": {
     "end_time": "2021-02-28T13:38:26.583355Z",
     "start_time": "2021-02-28T13:38:26.549375Z"
    }
   },
   "outputs": [
    {
     "name": "stdout",
     "output_type": "stream",
     "text": [
      "(23548, 1)\n",
      "[[0.246759]\n",
      " [0.247305]\n",
      " [0.246759]\n",
      " ...\n",
      " [0.194444]\n",
      " [0.229058]\n",
      " [0.252105]]\n"
     ]
    }
   ],
   "source": [
    "X_train_City_code_resp = train_data['City_Code'].apply(lambda x: City_code_dict[x])\n",
    "X_train_City_code_resp = X_train_City_code_resp.values.reshape(-1, 1)\n",
    "print(X_train_City_code_resp.shape)\n",
    "X_test_City_code_resp = test_data['City_Code'].apply(lambda x: City_code_dict[x])\n",
    "X_test_City_code_resp = X_test_City_code_resp.values.reshape(-1, 1)\n",
    "print(X_test_City_code_resp)"
   ]
  },
  {
   "cell_type": "code",
   "execution_count": 203,
   "metadata": {
    "ExecuteTime": {
     "end_time": "2021-02-28T13:38:26.738480Z",
     "start_time": "2021-02-28T13:38:26.586356Z"
    }
   },
   "outputs": [
    {
     "name": "stdout",
     "output_type": "stream",
     "text": [
      "(23548, 9)\n",
      "(21805, 9)\n"
     ]
    }
   ],
   "source": [
    "from sklearn.preprocessing import OneHotEncoder\n",
    "encoder = OneHotEncoder()\n",
    "encoder.fit(train_data['Health Indicator'].values.reshape(-1, 1))\n",
    "\n",
    "X_train_Health_Indicator = encoder.transform(train_data['Health Indicator'].values.reshape(-1, 1))\n",
    "X_test_Health_Indicator = encoder.transform(test_data['Health Indicator'].values.reshape(-1, 1))\n",
    "\n",
    "print(X_train_Health_Indicator.shape)\n",
    "print(X_test_Health_Indicator.shape)\n"
   ]
  },
  {
   "cell_type": "code",
   "execution_count": 204,
   "metadata": {
    "ExecuteTime": {
     "end_time": "2021-02-28T13:38:26.928389Z",
     "start_time": "2021-02-28T13:38:26.741463Z"
    }
   },
   "outputs": [
    {
     "data": {
      "text/plain": [
       "{'X1': 0.24616,\n",
       " 'X2': 0.244402,\n",
       " 'X3': 0.233896,\n",
       " 'X4': 0.243266,\n",
       " 'X5': 0.219982,\n",
       " 'X6': 0.237143,\n",
       " 'X7': 0.323308,\n",
       " 'X8': 0.240741,\n",
       " 'X9': 0.222222}"
      ]
     },
     "execution_count": 204,
     "metadata": {},
     "output_type": "execute_result"
    }
   ],
   "source": [
    "HI_dict = get_feat_dict('Health Indicator')\n",
    "HI_dict"
   ]
  },
  {
   "cell_type": "code",
   "execution_count": 205,
   "metadata": {
    "ExecuteTime": {
     "end_time": "2021-02-28T13:38:27.039305Z",
     "start_time": "2021-02-28T13:38:26.930370Z"
    }
   },
   "outputs": [
    {
     "name": "stdout",
     "output_type": "stream",
     "text": [
      "(23548, 1)\n"
     ]
    }
   ],
   "source": [
    "X_HI_resp = train_data['Health Indicator'].apply(lambda x: HI_dict[x])\n",
    "X_HI_resp = X_HI_resp.values.reshape(-1, 1)\n",
    "print(X_HI_resp.shape)"
   ]
  },
  {
   "cell_type": "code",
   "execution_count": null,
   "metadata": {
    "ExecuteTime": {
     "end_time": "2021-02-28T05:41:59.550506Z",
     "start_time": "2021-02-28T05:41:59.541514Z"
    }
   },
   "outputs": [],
   "source": [
    "\n"
   ]
  },
  {
   "cell_type": "code",
   "execution_count": 206,
   "metadata": {
    "ExecuteTime": {
     "end_time": "2021-02-28T13:38:27.211589Z",
     "start_time": "2021-02-28T13:38:27.041305Z"
    }
   },
   "outputs": [
    {
     "name": "stdout",
     "output_type": "stream",
     "text": [
      "(21805, 1)\n"
     ]
    },
    {
     "data": {
      "text/plain": [
       "(23548, 1)"
      ]
     },
     "execution_count": 206,
     "metadata": {},
     "output_type": "execute_result"
    }
   ],
   "source": [
    "X_ID = test_data['ID'].values.reshape(-1, 1)\n",
    "print(X_ID.shape)\n",
    "X_ID_train = train_data['ID'].values.reshape(-1, 1)\n",
    "X_ID_train.shape"
   ]
  },
  {
   "cell_type": "code",
   "execution_count": 207,
   "metadata": {
    "ExecuteTime": {
     "end_time": "2021-02-28T13:38:27.360605Z",
     "start_time": "2021-02-28T13:38:27.214566Z"
    }
   },
   "outputs": [
    {
     "name": "stdout",
     "output_type": "stream",
     "text": [
      "(23548, 15)\n",
      "(21805, 15)\n"
     ]
    }
   ],
   "source": [
    "from sklearn.preprocessing import OneHotEncoder\n",
    "encoder = OneHotEncoder()\n",
    "encoder.fit(train_data['Holding_Policy_Duration'].values.reshape(-1, 1))\n",
    "\n",
    "X_Holding_Policy_Duration_code = encoder.transform(train_data['Holding_Policy_Duration'].values.reshape(-1, 1))\n",
    "X_Holding_Policy_Duration_test = encoder.transform(test_data['Holding_Policy_Duration'].values.reshape(-1, 1))\n",
    "print(X_Holding_Policy_Duration_code.shape)\n",
    "print(X_Holding_Policy_Duration_test.shape)"
   ]
  },
  {
   "cell_type": "code",
   "execution_count": 208,
   "metadata": {
    "ExecuteTime": {
     "end_time": "2021-02-28T13:38:27.516724Z",
     "start_time": "2021-02-28T13:38:27.363604Z"
    }
   },
   "outputs": [
    {
     "name": "stdout",
     "output_type": "stream",
     "text": [
      "(23548, 4)\n",
      "(21805, 4)\n"
     ]
    }
   ],
   "source": [
    "from sklearn.preprocessing import OneHotEncoder\n",
    "encoder = OneHotEncoder()\n",
    "encoder.fit(train_data['Holding_Policy_Type'].values.reshape(-1, 1))\n",
    "\n",
    "X_Holding_Policy_Type_train = encoder.transform(train_data['Holding_Policy_Type'].values.reshape(-1, 1))\n",
    "X_Holding_Policy_Type_test = encoder.transform(test_data['Holding_Policy_Type'].values.reshape(-1, 1))\n",
    "\n",
    "print(X_Holding_Policy_Type_train.shape)\n",
    "print(X_Holding_Policy_Type_test.shape)"
   ]
  },
  {
   "cell_type": "code",
   "execution_count": 209,
   "metadata": {
    "ExecuteTime": {
     "end_time": "2021-02-28T13:38:27.648692Z",
     "start_time": "2021-02-28T13:38:27.519705Z"
    }
   },
   "outputs": [
    {
     "name": "stdout",
     "output_type": "stream",
     "text": [
      "(23548, 22)\n",
      "(21805, 22)\n"
     ]
    }
   ],
   "source": [
    "from sklearn.preprocessing import OneHotEncoder\n",
    "encoder = OneHotEncoder()\n",
    "encoder.fit(train_data['Reco_Policy_Cat'].values.reshape(-1, 1))\n",
    "\n",
    "X_Reco_Policy_Cat_train = encoder.transform(train_data['Reco_Policy_Cat'].values.reshape(-1, 1))\n",
    "X_Reco_Policy_Cat_test = encoder.transform(test_data['Reco_Policy_Cat'].values.reshape(-1, 1))\n",
    "print(X_Reco_Policy_Cat_train.shape)\n",
    "print(X_Reco_Policy_Cat_test.shape)"
   ]
  },
  {
   "cell_type": "code",
   "execution_count": 210,
   "metadata": {
    "ExecuteTime": {
     "end_time": "2021-02-28T13:38:27.843401Z",
     "start_time": "2021-02-28T13:38:27.651692Z"
    }
   },
   "outputs": [
    {
     "name": "stdout",
     "output_type": "stream",
     "text": [
      "(23548, 1)\n",
      "(21805, 1)\n"
     ]
    }
   ],
   "source": [
    "X_Reco_Policy_Premium_n = train_data['Reco_Policy_Premium'].values.reshape(-1, 1)\n",
    "X_Reco_Policy_test = test_data['Reco_Policy_Premium'].values.reshape(-1, 1)\n",
    "\n",
    "print(X_Reco_Policy_Premium_n.shape)\n",
    "print(X_Reco_Policy_test.shape)"
   ]
  },
  {
   "cell_type": "code",
   "execution_count": 211,
   "metadata": {
    "ExecuteTime": {
     "end_time": "2021-02-28T13:38:27.987391Z",
     "start_time": "2021-02-28T13:38:27.846400Z"
    }
   },
   "outputs": [
    {
     "name": "stdout",
     "output_type": "stream",
     "text": [
      "(23548, 1)\n"
     ]
    }
   ],
   "source": [
    "from sklearn.preprocessing import MinMaxScaler\n",
    "\n",
    "scaler = MinMaxScaler()\n",
    "scaler.fit(train_data['Reco_Policy_Premium'].values.reshape(-1, 1))\n",
    "X_train_RP_age = scaler.transform(train_data['Reco_Policy_Premium'].values.reshape(-1, 1))\n",
    "X_test_RP_age = scaler.transform(test_data['Reco_Policy_Premium'].values.reshape(-1, 1))\n",
    "\n",
    "print(X_train_RP_age.shape)\n"
   ]
  },
  {
   "cell_type": "code",
   "execution_count": 212,
   "metadata": {
    "ExecuteTime": {
     "end_time": "2021-02-28T13:38:28.131309Z",
     "start_time": "2021-02-28T13:38:27.990389Z"
    }
   },
   "outputs": [
    {
     "name": "stdout",
     "output_type": "stream",
     "text": [
      "[[5.18650089e-01]\n",
      " [7.06765703e-01]\n",
      " [3.53463588e-01]\n",
      " ...\n",
      " [7.12094300e-02]\n",
      " [4.84417891e-04]\n",
      " [6.24091716e-01]]\n"
     ]
    }
   ],
   "source": [
    "from sklearn.preprocessing import MinMaxScaler\n",
    "\n",
    "scaler = MinMaxScaler()\n",
    "scaler.fit(train_data['Region_Code'].values.reshape(-1, 1))\n",
    "X_train_RC_age = scaler.transform(train_data['Region_Code'].values.reshape(-1, 1))\n",
    "\n",
    "\n",
    "print(X_train_RC_age)"
   ]
  },
  {
   "cell_type": "markdown",
   "metadata": {},
   "source": [
    "# Stacking all the features together"
   ]
  },
  {
   "cell_type": "code",
   "execution_count": 233,
   "metadata": {
    "ExecuteTime": {
     "end_time": "2021-02-28T13:50:55.089075Z",
     "start_time": "2021-02-28T13:50:55.086081Z"
    }
   },
   "outputs": [],
   "source": [
    "y_train= train_data['Response']"
   ]
  },
  {
   "cell_type": "code",
   "execution_count": null,
   "metadata": {
    "ExecuteTime": {
     "end_time": "2021-02-28T06:48:42.218000Z",
     "start_time": "2021-02-28T06:48:42.209008Z"
    }
   },
   "outputs": [],
   "source": [
    "\n"
   ]
  },
  {
   "cell_type": "code",
   "execution_count": 214,
   "metadata": {
    "ExecuteTime": {
     "end_time": "2021-02-28T13:38:28.452711Z",
     "start_time": "2021-02-28T13:38:28.294215Z"
    }
   },
   "outputs": [
    {
     "name": "stdout",
     "output_type": "stream",
     "text": [
      "(23548, 92)\n",
      "(21805, 92)\n"
     ]
    }
   ],
   "source": [
    "from scipy.sparse import hstack\n",
    "\n",
    "X_train_ohe = hstack((X_acc,\n",
    "                      X_train_Reco_Insurance_Type,\n",
    "                      X_train_Is_Spouse,\n",
    "                      X_train_Upper_age,\n",
    "                      X_train_Lower_age,\n",
    "                      X_train_City_code,\n",
    "                      X_train_Health_Indicator,\n",
    "                      X_Holding_Policy_Duration_code,\n",
    "                      X_Holding_Policy_Type_train,\n",
    "                      X_Reco_Policy_Cat_train,\n",
    "                      X_train_RP_age,))\n",
    "X_test_ohe = hstack((    X_test_acc,\n",
    "X_test_Reco_Insurance_Type,\n",
    "X_test_Is_Spouse,\n",
    "X_test_U_age_n,\n",
    "X_test_L_age_n,\n",
    "X_test_City_code,\n",
    "X_test_Health_Indicator,\n",
    "X_Holding_Policy_Duration_test,\n",
    "X_Holding_Policy_Type_test,\n",
    "X_Reco_Policy_Cat_test.shape,\n",
    "X_Reco_Policy_test,\n",
    "))\n",
    "print(X_train_ohe.shape)\n",
    "print(X_test_ohe.shape)\n"
   ]
  },
  {
   "cell_type": "code",
   "execution_count": 215,
   "metadata": {
    "ExecuteTime": {
     "end_time": "2021-02-28T13:38:28.575393Z",
     "start_time": "2021-02-28T13:38:28.455706Z"
    }
   },
   "outputs": [
    {
     "name": "stdout",
     "output_type": "stream",
     "text": [
      "train data shape: ((23548, 92), (23548,))\n"
     ]
    }
   ],
   "source": [
    "print(\"train data shape:\", (X_train_ohe.shape, y_train.shape))"
   ]
  },
  {
   "cell_type": "markdown",
   "metadata": {},
   "source": [
    "# Building Machine Learning Models"
   ]
  },
  {
   "cell_type": "code",
   "execution_count": 216,
   "metadata": {
    "ExecuteTime": {
     "end_time": "2021-02-28T13:38:28.750018Z",
     "start_time": "2021-02-28T13:38:28.581393Z"
    }
   },
   "outputs": [
    {
     "data": {
      "text/html": [
       "<div>\n",
       "<style scoped>\n",
       "    .dataframe tbody tr th:only-of-type {\n",
       "        vertical-align: middle;\n",
       "    }\n",
       "\n",
       "    .dataframe tbody tr th {\n",
       "        vertical-align: top;\n",
       "    }\n",
       "\n",
       "    .dataframe thead th {\n",
       "        text-align: right;\n",
       "    }\n",
       "</style>\n",
       "<table border=\"1\" class=\"dataframe\">\n",
       "  <thead>\n",
       "    <tr style=\"text-align: right;\">\n",
       "      <th></th>\n",
       "      <th>ID</th>\n",
       "      <th>City_Code</th>\n",
       "      <th>Region_Code</th>\n",
       "      <th>Accomodation_Type</th>\n",
       "      <th>Reco_Insurance_Type</th>\n",
       "      <th>Upper_Age</th>\n",
       "      <th>Lower_Age</th>\n",
       "      <th>Is_Spouse</th>\n",
       "      <th>Health Indicator</th>\n",
       "      <th>Holding_Policy_Duration</th>\n",
       "      <th>Holding_Policy_Type</th>\n",
       "      <th>Reco_Policy_Cat</th>\n",
       "      <th>Reco_Policy_Premium</th>\n",
       "    </tr>\n",
       "  </thead>\n",
       "  <tbody>\n",
       "    <tr>\n",
       "      <td>0</td>\n",
       "      <td>50883</td>\n",
       "      <td>C1</td>\n",
       "      <td>156</td>\n",
       "      <td>Owned</td>\n",
       "      <td>Individual</td>\n",
       "      <td>30</td>\n",
       "      <td>30</td>\n",
       "      <td>No</td>\n",
       "      <td>X1</td>\n",
       "      <td>6.0</td>\n",
       "      <td>3.0</td>\n",
       "      <td>5</td>\n",
       "      <td>11934.0</td>\n",
       "    </tr>\n",
       "    <tr>\n",
       "      <td>1</td>\n",
       "      <td>50884</td>\n",
       "      <td>C4</td>\n",
       "      <td>7</td>\n",
       "      <td>Owned</td>\n",
       "      <td>Joint</td>\n",
       "      <td>69</td>\n",
       "      <td>68</td>\n",
       "      <td>Yes</td>\n",
       "      <td>X1</td>\n",
       "      <td>3.0</td>\n",
       "      <td>3.0</td>\n",
       "      <td>18</td>\n",
       "      <td>32204.8</td>\n",
       "    </tr>\n",
       "    <tr>\n",
       "      <td>2</td>\n",
       "      <td>50885</td>\n",
       "      <td>C1</td>\n",
       "      <td>564</td>\n",
       "      <td>Rented</td>\n",
       "      <td>Individual</td>\n",
       "      <td>28</td>\n",
       "      <td>28</td>\n",
       "      <td>No</td>\n",
       "      <td>X3</td>\n",
       "      <td>2.0</td>\n",
       "      <td>4.0</td>\n",
       "      <td>17</td>\n",
       "      <td>9240.0</td>\n",
       "    </tr>\n",
       "    <tr>\n",
       "      <td>3</td>\n",
       "      <td>50886</td>\n",
       "      <td>C3</td>\n",
       "      <td>1177</td>\n",
       "      <td>Rented</td>\n",
       "      <td>Individual</td>\n",
       "      <td>23</td>\n",
       "      <td>23</td>\n",
       "      <td>No</td>\n",
       "      <td>X3</td>\n",
       "      <td>3.0</td>\n",
       "      <td>3.0</td>\n",
       "      <td>18</td>\n",
       "      <td>9086.0</td>\n",
       "    </tr>\n",
       "    <tr>\n",
       "      <td>4</td>\n",
       "      <td>50887</td>\n",
       "      <td>C1</td>\n",
       "      <td>951</td>\n",
       "      <td>Owned</td>\n",
       "      <td>Individual</td>\n",
       "      <td>75</td>\n",
       "      <td>75</td>\n",
       "      <td>No</td>\n",
       "      <td>X3</td>\n",
       "      <td>1.0</td>\n",
       "      <td>3.0</td>\n",
       "      <td>5</td>\n",
       "      <td>22534.0</td>\n",
       "    </tr>\n",
       "    <tr>\n",
       "      <td>...</td>\n",
       "      <td>...</td>\n",
       "      <td>...</td>\n",
       "      <td>...</td>\n",
       "      <td>...</td>\n",
       "      <td>...</td>\n",
       "      <td>...</td>\n",
       "      <td>...</td>\n",
       "      <td>...</td>\n",
       "      <td>...</td>\n",
       "      <td>...</td>\n",
       "      <td>...</td>\n",
       "      <td>...</td>\n",
       "      <td>...</td>\n",
       "    </tr>\n",
       "    <tr>\n",
       "      <td>21800</td>\n",
       "      <td>72683</td>\n",
       "      <td>C3</td>\n",
       "      <td>1044</td>\n",
       "      <td>Owned</td>\n",
       "      <td>Individual</td>\n",
       "      <td>45</td>\n",
       "      <td>45</td>\n",
       "      <td>No</td>\n",
       "      <td>X1</td>\n",
       "      <td>4.0</td>\n",
       "      <td>1.0</td>\n",
       "      <td>18</td>\n",
       "      <td>15884.0</td>\n",
       "    </tr>\n",
       "    <tr>\n",
       "      <td>21801</td>\n",
       "      <td>72684</td>\n",
       "      <td>C4</td>\n",
       "      <td>266</td>\n",
       "      <td>Owned</td>\n",
       "      <td>Individual</td>\n",
       "      <td>59</td>\n",
       "      <td>59</td>\n",
       "      <td>No</td>\n",
       "      <td>X5</td>\n",
       "      <td>6.0</td>\n",
       "      <td>3.0</td>\n",
       "      <td>18</td>\n",
       "      <td>21390.0</td>\n",
       "    </tr>\n",
       "    <tr>\n",
       "      <td>21802</td>\n",
       "      <td>72685</td>\n",
       "      <td>C12</td>\n",
       "      <td>2470</td>\n",
       "      <td>Owned</td>\n",
       "      <td>Individual</td>\n",
       "      <td>74</td>\n",
       "      <td>74</td>\n",
       "      <td>No</td>\n",
       "      <td>X3</td>\n",
       "      <td>1.0</td>\n",
       "      <td>3.0</td>\n",
       "      <td>1</td>\n",
       "      <td>17836.0</td>\n",
       "    </tr>\n",
       "    <tr>\n",
       "      <td>21803</td>\n",
       "      <td>72686</td>\n",
       "      <td>C10</td>\n",
       "      <td>1676</td>\n",
       "      <td>Rented</td>\n",
       "      <td>Individual</td>\n",
       "      <td>25</td>\n",
       "      <td>25</td>\n",
       "      <td>No</td>\n",
       "      <td>X4</td>\n",
       "      <td>3.0</td>\n",
       "      <td>1.0</td>\n",
       "      <td>19</td>\n",
       "      <td>11568.0</td>\n",
       "    </tr>\n",
       "    <tr>\n",
       "      <td>21804</td>\n",
       "      <td>72687</td>\n",
       "      <td>C2</td>\n",
       "      <td>3617</td>\n",
       "      <td>Owned</td>\n",
       "      <td>Individual</td>\n",
       "      <td>73</td>\n",
       "      <td>73</td>\n",
       "      <td>No</td>\n",
       "      <td>X2</td>\n",
       "      <td>14+</td>\n",
       "      <td>2.0</td>\n",
       "      <td>3</td>\n",
       "      <td>23040.0</td>\n",
       "    </tr>\n",
       "  </tbody>\n",
       "</table>\n",
       "<p>21805 rows × 13 columns</p>\n",
       "</div>"
      ],
      "text/plain": [
       "          ID City_Code  Region_Code Accomodation_Type Reco_Insurance_Type  \\\n",
       "0      50883        C1          156             Owned          Individual   \n",
       "1      50884        C4            7             Owned               Joint   \n",
       "2      50885        C1          564            Rented          Individual   \n",
       "3      50886        C3         1177            Rented          Individual   \n",
       "4      50887        C1          951             Owned          Individual   \n",
       "...      ...       ...          ...               ...                 ...   \n",
       "21800  72683        C3         1044             Owned          Individual   \n",
       "21801  72684        C4          266             Owned          Individual   \n",
       "21802  72685       C12         2470             Owned          Individual   \n",
       "21803  72686       C10         1676            Rented          Individual   \n",
       "21804  72687        C2         3617             Owned          Individual   \n",
       "\n",
       "       Upper_Age  Lower_Age Is_Spouse Health Indicator  \\\n",
       "0             30         30        No               X1   \n",
       "1             69         68       Yes               X1   \n",
       "2             28         28        No               X3   \n",
       "3             23         23        No               X3   \n",
       "4             75         75        No               X3   \n",
       "...          ...        ...       ...              ...   \n",
       "21800         45         45        No               X1   \n",
       "21801         59         59        No               X5   \n",
       "21802         74         74        No               X3   \n",
       "21803         25         25        No               X4   \n",
       "21804         73         73        No               X2   \n",
       "\n",
       "      Holding_Policy_Duration  Holding_Policy_Type  Reco_Policy_Cat  \\\n",
       "0                         6.0                  3.0                5   \n",
       "1                         3.0                  3.0               18   \n",
       "2                         2.0                  4.0               17   \n",
       "3                         3.0                  3.0               18   \n",
       "4                         1.0                  3.0                5   \n",
       "...                       ...                  ...              ...   \n",
       "21800                     4.0                  1.0               18   \n",
       "21801                     6.0                  3.0               18   \n",
       "21802                     1.0                  3.0                1   \n",
       "21803                     3.0                  1.0               19   \n",
       "21804                     14+                  2.0                3   \n",
       "\n",
       "       Reco_Policy_Premium  \n",
       "0                  11934.0  \n",
       "1                  32204.8  \n",
       "2                   9240.0  \n",
       "3                   9086.0  \n",
       "4                  22534.0  \n",
       "...                    ...  \n",
       "21800              15884.0  \n",
       "21801              21390.0  \n",
       "21802              17836.0  \n",
       "21803              11568.0  \n",
       "21804              23040.0  \n",
       "\n",
       "[21805 rows x 13 columns]"
      ]
     },
     "execution_count": 216,
     "metadata": {},
     "output_type": "execute_result"
    }
   ],
   "source": [
    "test_data"
   ]
  },
  {
   "cell_type": "code",
   "execution_count": 217,
   "metadata": {
    "ExecuteTime": {
     "end_time": "2021-02-28T13:38:28.869036Z",
     "start_time": "2021-02-28T13:38:28.757013Z"
    }
   },
   "outputs": [],
   "source": [
    "from sklearn.linear_model import SGDClassifier\n",
    "from sklearn.model_selection import GridSearchCV\n",
    "from sklearn.calibration import CalibratedClassifierCV"
   ]
  },
  {
   "cell_type": "raw",
   "metadata": {},
   "source": [
    "#"
   ]
  },
  {
   "cell_type": "code",
   "execution_count": null,
   "metadata": {
    "ExecuteTime": {
     "end_time": "2021-02-28T09:57:09.299625Z",
     "start_time": "2021-02-28T09:57:09.276641Z"
    }
   },
   "outputs": [],
   "source": [
    "\n",
    "#running Various Machine Learning model"
   ]
  },
  {
   "cell_type": "code",
   "execution_count": null,
   "metadata": {
    "ExecuteTime": {
     "end_time": "2021-02-28T09:01:36.269745Z",
     "start_time": "2021-02-28T09:01:36.249761Z"
    }
   },
   "outputs": [],
   "source": [
    "#Finding the best model based on the ROC value"
   ]
  },
  {
   "cell_type": "code",
   "execution_count": 218,
   "metadata": {
    "ExecuteTime": {
     "end_time": "2021-02-28T13:38:34.343258Z",
     "start_time": "2021-02-28T13:38:28.871014Z"
    }
   },
   "outputs": [
    {
     "data": {
      "text/plain": [
       "GridSearchCV(cv=5, error_score='raise-deprecating',\n",
       "             estimator=SGDClassifier(alpha=0.0001, average=False,\n",
       "                                     class_weight='balanced',\n",
       "                                     early_stopping=False, epsilon=0.1,\n",
       "                                     eta0=0.0, fit_intercept=True,\n",
       "                                     l1_ratio=0.15, learning_rate='optimal',\n",
       "                                     loss='hinge', max_iter=1000,\n",
       "                                     n_iter_no_change=5, n_jobs=None,\n",
       "                                     penalty='l2', power_t=0.5,\n",
       "                                     random_state=None, shuffle=True, tol=0.001,\n",
       "                                     validation_fraction=0.1, verbose=0,\n",
       "                                     warm_start=False),\n",
       "             iid='warn', n_jobs=-1,\n",
       "             param_grid={'alpha': [0.0001, 0.001, 0.01, 0.1, 1, 10, 100]},\n",
       "             pre_dispatch='2*n_jobs', refit=True, return_train_score=True,\n",
       "             scoring='roc_auc', verbose=0)"
      ]
     },
     "execution_count": 218,
     "metadata": {},
     "output_type": "execute_result"
    }
   ],
   "source": [
    "sgd = SGDClassifier(loss = 'hinge', class_weight = 'balanced') \n",
    "parameter = {'alpha': [0.0001, 0.001, 0.01, 0.1, 1, 10, 100]} # setting hyperparameter from 10^-3 to 10^3 in powers of 10\n",
    "clf = GridSearchCV(sgd, parameter, cv = 5, scoring = 'roc_auc', n_jobs = -1, return_train_score = True)\n",
    "clf.fit(X_train_ohe, y_train)"
   ]
  },
  {
   "cell_type": "code",
   "execution_count": 219,
   "metadata": {
    "ExecuteTime": {
     "end_time": "2021-02-28T13:38:35.105824Z",
     "start_time": "2021-02-28T13:38:34.347257Z"
    }
   },
   "outputs": [
    {
     "data": {
      "image/png": "[encoded data removed]",
      "text/plain": [
       "<Figure size 432x288 with 1 Axes>"
      ]
     },
     "metadata": {
      "needs_background": "light"
     },
     "output_type": "display_data"
    }
   ],
   "source": [
    "\n",
    "train_loss = clf.cv_results_['mean_train_score']\n",
    "cv_loss = clf.cv_results_['mean_test_score'] \n",
    "plt.plot(parameter['alpha'], train_loss, label = 'Train score')\n",
    "plt.plot(parameter['alpha'], cv_loss, label = 'CV score')\n",
    "\n",
    "plt.scatter(parameter['alpha'], train_loss, label = 'Train score')\n",
    "plt.scatter(parameter['alpha'], cv_loss, label = 'CV score')\n",
    "plt.xscale('log') \n",
    "\n",
    "plt.legend()\n",
    "plt.xlabel(\"hyperparameter: alpha\")\n",
    "plt.ylabel(\"AUC Score\")\n",
    "plt.grid()\n",
    "plt.show()"
   ]
  },
  {
   "cell_type": "code",
   "execution_count": 220,
   "metadata": {
    "ExecuteTime": {
     "end_time": "2021-02-28T13:38:35.949170Z",
     "start_time": "2021-02-28T13:38:35.110820Z"
    }
   },
   "outputs": [
    {
     "name": "stdout",
     "output_type": "stream",
     "text": [
      "Train Score: 0.6308109366030495\n"
     ]
    }
   ],
   "source": [
    "from sklearn.metrics import roc_auc_score\n",
    "\n",
    "sgd_clf = SGDClassifier(loss = 'log', class_weight= 'balanced', random_state = 42) # default penalty is L2\n",
    "sgd_clf.fit(X_train_ohe, y_train)\n",
    "sig_clf = CalibratedClassifierCV(sgd_clf, method = \"sigmoid\")\n",
    "sig_clf.fit(X_train_ohe, y_train)\n",
    "\n",
    "y_pred_train = sig_clf.predict_proba(X_train_ohe)\n",
    "y_pred_test = sig_clf.predict_proba(X_test_ohe)\n",
    "\n",
    "print(\"Train Score:\", roc_auc_score(y_train, y_pred_train[:, 1]))"
   ]
  },
  {
   "cell_type": "code",
   "execution_count": 221,
   "metadata": {
    "ExecuteTime": {
     "end_time": "2021-02-28T13:38:36.096568Z",
     "start_time": "2021-02-28T13:38:35.952169Z"
    }
   },
   "outputs": [],
   "source": [
    "sgd_df = pd.DataFrame(data = {'ID':test_data['ID'], 'Response':y_pred_test[:, 1]})\n",
    "sgd_df.head()\n",
    "sgd_df.to_csv(\"sub1.csv\",index=False)"
   ]
  },
  {
   "cell_type": "code",
   "execution_count": 222,
   "metadata": {
    "ExecuteTime": {
     "end_time": "2021-02-28T13:38:36.181371Z",
     "start_time": "2021-02-28T13:38:36.098567Z"
    }
   },
   "outputs": [
    {
     "ename": "NameError",
     "evalue": "name 'test_copy' is not defined",
     "output_type": "error",
     "traceback": [
      "\u001b[1;31m---------------------------------------------------------------------------\u001b[0m",
      "\u001b[1;31mNameError\u001b[0m                                 Traceback (most recent call last)",
      "\u001b[1;32m<ipython-input-222-06be8ed5c8d1>\u001b[0m in \u001b[0;36m<module>\u001b[1;34m\u001b[0m\n\u001b[0;32m      1\u001b[0m \u001b[0msubmission\u001b[0m \u001b[1;33m=\u001b[0m \u001b[0mpd\u001b[0m\u001b[1;33m.\u001b[0m\u001b[0mDataFrame\u001b[0m\u001b[1;33m(\u001b[0m\u001b[1;33m)\u001b[0m\u001b[1;33m\u001b[0m\u001b[1;33m\u001b[0m\u001b[0m\n\u001b[1;32m----> 2\u001b[1;33m \u001b[0msubmission\u001b[0m\u001b[1;33m[\u001b[0m\u001b[1;34m'ID'\u001b[0m\u001b[1;33m]\u001b[0m \u001b[1;33m=\u001b[0m \u001b[0mtest_copy\u001b[0m\u001b[1;33m[\u001b[0m\u001b[1;34m'ID'\u001b[0m\u001b[1;33m]\u001b[0m\u001b[1;33m\u001b[0m\u001b[1;33m\u001b[0m\u001b[0m\n\u001b[0m\u001b[0;32m      3\u001b[0m \u001b[0msubmission\u001b[0m\u001b[1;33m[\u001b[0m\u001b[1;34m'Response'\u001b[0m\u001b[1;33m]\u001b[0m \u001b[1;33m=\u001b[0m \u001b[0mypred_test\u001b[0m\u001b[1;33m\u001b[0m\u001b[1;33m\u001b[0m\u001b[0m\n\u001b[0;32m      4\u001b[0m \u001b[1;33m\u001b[0m\u001b[0m\n\u001b[0;32m      5\u001b[0m \u001b[0msubmission\u001b[0m\u001b[1;33m.\u001b[0m\u001b[0mto_csv\u001b[0m\u001b[1;33m(\u001b[0m\u001b[1;34m'file_name'\u001b[0m\u001b[1;33m,\u001b[0m\u001b[0mindex\u001b[0m\u001b[1;33m=\u001b[0m\u001b[1;32mFalse\u001b[0m\u001b[1;33m)\u001b[0m\u001b[1;33m\u001b[0m\u001b[1;33m\u001b[0m\u001b[0m\n",
      "\u001b[1;31mNameError\u001b[0m: name 'test_copy' is not defined"
     ]
    }
   ],
   "source": [
    "submission = pd.DataFrame()\n",
    "submission['ID'] = test_copy['ID']\n",
    "submission['Response'] = ypred_test\n",
    "\n",
    "submission.to_csv('file_name',index=False)"
   ]
  },
  {
   "cell_type": "code",
   "execution_count": null,
   "metadata": {
    "ExecuteTime": {
     "end_time": "2021-02-28T13:38:36.187369Z",
     "start_time": "2021-02-28T13:38:23.957Z"
    }
   },
   "outputs": [],
   "source": [
    "from sklearn.linear_model import SGDClassifier\n",
    "from sklearn.model_selection import GridSearchCV\n",
    "from sklearn.calibration import CalibratedClassifierCV\n",
    "\n",
    "sgd = SGDClassifier(loss = 'log', class_weight = 'balanced') # default penalty is L2 \n",
    "parameter = {'alpha': [0.001, 0.01, 0.1, 1, 10, 100, 1000]} # setting hyperparameter from 10^-3 to 10^3 in powers of 10\n",
    "clf = GridSearchCV(sgd, parameter, cv = 5, scoring = 'roc_auc', n_jobs = -1, return_train_score = True)\n",
    "clf.fit(X_train_ohe, y_train)"
   ]
  },
  {
   "cell_type": "code",
   "execution_count": null,
   "metadata": {
    "ExecuteTime": {
     "end_time": "2021-02-28T13:38:36.189369Z",
     "start_time": "2021-02-28T13:38:23.961Z"
    }
   },
   "outputs": [],
   "source": [
    "# Plotting AUC_Scores for train data and CV data to determine optimal hyperparameter\n",
    "\n",
    "train_loss = clf.cv_results_['mean_train_score']\n",
    "cv_loss = clf.cv_results_['mean_test_score'] \n",
    "plt.plot(parameter['alpha'], train_loss, label = 'Train score')\n",
    "plt.plot(parameter['alpha'], cv_loss, label = 'CV score')\n",
    "\n",
    "plt.scatter(parameter['alpha'], train_loss, label = 'Train score')\n",
    "plt.scatter(parameter['alpha'], cv_loss, label = 'CV score')\n",
    "plt.xscale('log') \n",
    "\n",
    "plt.legend()\n",
    "plt.xlabel(\"hyperparameter: alpha\")\n",
    "plt.ylabel(\"AUC Score\")\n",
    "plt.grid()\n",
    "plt.show()"
   ]
  },
  {
   "cell_type": "code",
   "execution_count": null,
   "metadata": {
    "ExecuteTime": {
     "end_time": "2021-02-28T13:38:36.191366Z",
     "start_time": "2021-02-28T13:38:23.965Z"
    }
   },
   "outputs": [],
   "source": [
    "sgd = SGDClassifier(loss = 'log', class_weight = 'balanced',  l1_ratio = 1 ) \n",
    "parameter = {'alpha': [0.0001, 0.001, 0.01, 0.1, 1, 10, 100]} # setting hyperparameter from 10^-3 to 10^3 in powers of 10\n",
    "sig_clf= GridSearchCV(sgd, parameter, cv = 5, scoring = 'roc_auc', n_jobs = -1, return_train_score = True)\n",
    "sig_clf.fit(X_train_ohe, y_train)\n",
    "sig_clf = CalibratedClassifierCV(sgd, method = \"sigmoid\")\n",
    "sig_clf.fit(X_train_ohe, y_train)\n",
    "\n",
    "y_pred_train = sig_clf.predict_proba(X_train_ohe)\n",
    "y_pred_test = sig_clf.predict_proba(X_test_ohe)\n",
    "\n",
    "print(\"Train Score:\", roc_auc_score(y_train, y_pred_train[:, 1]))"
   ]
  },
  {
   "cell_type": "code",
   "execution_count": 223,
   "metadata": {
    "ExecuteTime": {
     "end_time": "2021-02-28T13:40:33.961696Z",
     "start_time": "2021-02-28T13:40:33.357309Z"
    }
   },
   "outputs": [
    {
     "name": "stdout",
     "output_type": "stream",
     "text": [
      "Train Score: 0.6247866732328355\n"
     ]
    }
   ],
   "source": [
    "from sklearn.naive_bayes import MultinomialNB\n",
    "\n",
    "mul_NB = MultinomialNB() \n",
    "parameters = {'alpha' :[0.0001,0.001,0.01,0.1,1,10,100,1000]}\n",
    "clf = GridSearchCV(mul_NB, parameters, cv = 5, scoring = 'roc_auc', n_jobs = -1, return_train_score = True)\n",
    "sig_clf.fit(X_train_ohe, y_train)\n",
    "sig_clf = CalibratedClassifierCV(mul_NB, method = \"sigmoid\")\n",
    "sig_clf.fit(X_train_ohe, y_train)\n",
    "\n",
    "y_pred_train = sig_clf.predict_proba(X_train_ohe)\n",
    "y_pred_test = sig_clf.predict_proba(X_test_ohe)\n",
    "\n",
    "print(\"Train Score:\", roc_auc_score(y_train, y_pred_train[:, 1]))\n"
   ]
  },
  {
   "cell_type": "code",
   "execution_count": 224,
   "metadata": {
    "ExecuteTime": {
     "end_time": "2021-02-28T13:40:44.394085Z",
     "start_time": "2021-02-28T13:40:37.036756Z"
    }
   },
   "outputs": [
    {
     "name": "stdout",
     "output_type": "stream",
     "text": [
      "Train Score: 0.9992045646669341\n"
     ]
    }
   ],
   "source": [
    "from sklearn.model_selection import GridSearchCV\n",
    "from sklearn.calibration import CalibratedClassifierCV\n",
    "from sklearn.ensemble import RandomForestClassifier\n",
    "\n",
    "rfc = RandomForestClassifier() \n",
    "rfc.fit(X_train_ohe, y_train)\n",
    "sig_clf = CalibratedClassifierCV(rfc, method = \"sigmoid\")\n",
    "sig_clf.fit(X_train_ohe, y_train)\n",
    "\n",
    "y_pred_train = sig_clf.predict_proba(X_train_ohe)\n",
    "y_pred_test = sig_clf.predict_proba(X_test_ohe)\n",
    "\n",
    "print(\"Train Score:\", roc_auc_score(y_train, y_pred_train[:, 1]))\n"
   ]
  },
  {
   "cell_type": "code",
   "execution_count": null,
   "metadata": {
    "ExecuteTime": {
     "end_time": "2021-02-28T13:38:36.197363Z",
     "start_time": "2021-02-28T13:38:23.982Z"
    }
   },
   "outputs": [],
   "source": [
    "sgd_df = pd.DataFrame(data = {'ID':test_data['ID'], 'Response':y_pred_test[:, 1]})\n",
    "sgd_df.head()\n",
    "sgd_df.to_csv(\"subnew2.csv\",index=False)\n"
   ]
  },
  {
   "cell_type": "code",
   "execution_count": 225,
   "metadata": {
    "ExecuteTime": {
     "end_time": "2021-02-28T13:40:48.800118Z",
     "start_time": "2021-02-28T13:40:48.669180Z"
    }
   },
   "outputs": [],
   "source": [
    "sgd_df = pd.DataFrame(data = {'ID':test_data['ID'], 'Response':y_pred_test[:, 1]})\n",
    "sgd_df.head()\n",
    "sgd_df.to_csv(\"sub14new.csv\",index=False)"
   ]
  },
  {
   "cell_type": "code",
   "execution_count": 226,
   "metadata": {
    "ExecuteTime": {
     "end_time": "2021-02-28T13:41:10.237596Z",
     "start_time": "2021-02-28T13:40:51.221552Z"
    }
   },
   "outputs": [
    {
     "name": "stdout",
     "output_type": "stream",
     "text": [
      "[19:10:51] WARNING: C:/Users/Administrator/workspace/xgboost-win64_release_1.3.0/src/learner.cc:541: \n",
      "Parameters: { class_n_jobs } might not be used.\n",
      "\n",
      "  This may not be accurate due to some parameters are only used in language bindings but\n",
      "  passed down to XGBoost core.  Or some parameters are not used but slip through this\n",
      "  verification. Please open an issue if you find above cases.\n",
      "\n",
      "\n",
      "[19:10:51] WARNING: C:/Users/Administrator/workspace/xgboost-win64_release_1.3.0/src/learner.cc:1061: Starting in XGBoost 1.3.0, the default evaluation metric used with the objective 'binary:logistic' was changed from 'error' to 'logloss'. Explicitly set eval_metric if you'd like to restore the old behavior.\n",
      "[19:10:56] WARNING: C:/Users/Administrator/workspace/xgboost-win64_release_1.3.0/src/learner.cc:541: \n",
      "Parameters: { class_n_jobs } might not be used.\n",
      "\n",
      "  This may not be accurate due to some parameters are only used in language bindings but\n",
      "  passed down to XGBoost core.  Or some parameters are not used but slip through this\n",
      "  verification. Please open an issue if you find above cases.\n",
      "\n",
      "\n",
      "[19:10:56] WARNING: C:/Users/Administrator/workspace/xgboost-win64_release_1.3.0/src/learner.cc:1061: Starting in XGBoost 1.3.0, the default evaluation metric used with the objective 'binary:logistic' was changed from 'error' to 'logloss'. Explicitly set eval_metric if you'd like to restore the old behavior.\n",
      "[19:11:00] WARNING: C:/Users/Administrator/workspace/xgboost-win64_release_1.3.0/src/learner.cc:541: \n",
      "Parameters: { class_n_jobs } might not be used.\n",
      "\n",
      "  This may not be accurate due to some parameters are only used in language bindings but\n",
      "  passed down to XGBoost core.  Or some parameters are not used but slip through this\n",
      "  verification. Please open an issue if you find above cases.\n",
      "\n",
      "\n",
      "[19:11:00] WARNING: C:/Users/Administrator/workspace/xgboost-win64_release_1.3.0/src/learner.cc:1061: Starting in XGBoost 1.3.0, the default evaluation metric used with the objective 'binary:logistic' was changed from 'error' to 'logloss'. Explicitly set eval_metric if you'd like to restore the old behavior.\n",
      "[19:11:05] WARNING: C:/Users/Administrator/workspace/xgboost-win64_release_1.3.0/src/learner.cc:541: \n",
      "Parameters: { class_n_jobs } might not be used.\n",
      "\n",
      "  This may not be accurate due to some parameters are only used in language bindings but\n",
      "  passed down to XGBoost core.  Or some parameters are not used but slip through this\n",
      "  verification. Please open an issue if you find above cases.\n",
      "\n",
      "\n",
      "[19:11:05] WARNING: C:/Users/Administrator/workspace/xgboost-win64_release_1.3.0/src/learner.cc:1061: Starting in XGBoost 1.3.0, the default evaluation metric used with the objective 'binary:logistic' was changed from 'error' to 'logloss'. Explicitly set eval_metric if you'd like to restore the old behavior.\n",
      "Train Score: 0.993949860223171\n"
     ]
    }
   ],
   "source": [
    "from xgboost.sklearn import XGBClassifier\n",
    "from sklearn.model_selection import GridSearchCV\n",
    "\n",
    "xgb = XGBClassifier(n_estimators = 150, max_depth = 11, colsample_bytree = 0.6, class_n_jobs = -1, random_state = 21)\n",
    "xgb.fit(X_train_ohe, y_train)\n",
    "sig_clf = CalibratedClassifierCV(xgb, method = \"sigmoid\")\n",
    "sig_clf.fit(X_train_ohe, y_train)\n",
    "\n",
    "y_pred_train = sig_clf.predict_proba(X_train_ohe)\n",
    "y_pred_test = sig_clf.predict_proba(X_test_ohe)\n",
    "\n",
    "print(\"Train Score:\", roc_auc_score(y_train, y_pred_train[:, 1]))"
   ]
  },
  {
   "cell_type": "code",
   "execution_count": null,
   "metadata": {
    "ExecuteTime": {
     "end_time": "2021-02-28T13:38:36.203361Z",
     "start_time": "2021-02-28T13:38:24.003Z"
    }
   },
   "outputs": [],
   "source": [
    "sgd_df = pd.DataFrame(data = {'ID':test_data['ID'], 'Response':y_pred_test[:, 1]})\n",
    "sgd_df.head()\n",
    "sgd_df.to_csv(\"sub3.csv\",index=False)"
   ]
  },
  {
   "cell_type": "code",
   "execution_count": null,
   "metadata": {
    "ExecuteTime": {
     "end_time": "2021-02-28T13:38:36.204358Z",
     "start_time": "2021-02-28T13:38:24.009Z"
    }
   },
   "outputs": [],
   "source": [
    "rfc = RandomForestClassifier(n_estimators = 250, max_depth = 15, random_state = 101, n_jobs = -1) \n",
    "rfc.fit(X_train_ohe, y_train)\n",
    "sig_clf = CalibratedClassifierCV(rfc, method = \"sigmoid\")\n",
    "sig_clf.fit(X_train_ohe, y_train)\n",
    "\n",
    "y_pred_train = sig_clf.predict_proba(X_train_ohe)\n",
    "y_pred_test = sig_clf.predict_proba(X_test_ohe)\n",
    "\n",
    "print(\"Train Score:\", roc_auc_score(y_train, y_pred_train[:, 1]))"
   ]
  },
  {
   "cell_type": "code",
   "execution_count": null,
   "metadata": {
    "ExecuteTime": {
     "end_time": "2021-02-28T13:38:36.206357Z",
     "start_time": "2021-02-28T13:38:24.014Z"
    }
   },
   "outputs": [],
   "source": [
    "sgd_df = pd.DataFrame(data = {'ID':test_data['ID'], 'Response':y_pred_test[:, 1]})\n",
    "sgd_df.head()\n",
    "sgd_df.to_csv(\"sub4.csv\",index=False)"
   ]
  },
  {
   "cell_type": "code",
   "execution_count": null,
   "metadata": {
    "ExecuteTime": {
     "end_time": "2021-02-28T13:38:36.208359Z",
     "start_time": "2021-02-28T13:38:24.019Z"
    }
   },
   "outputs": [],
   "source": [
    "X_train_acc,\n",
    "X_train_Reco_Insurance_Type,\n",
    "X_train_Is_Spouse,\n",
    "X_train_Upper_age,\n",
    "X_train_Lower_age,\n",
    "X_train_City_code_resp,\n",
    "X_Holding_Policy_Duration_code,\n",
    "X_Holding_Policy_Type_train,\n",
    "X_Reco_Policy_Cat_train,\n",
    "X_Reco_Policy_test,\n",
    "X_train_RP_age\n",
    "X_ID_train"
   ]
  },
  {
   "cell_type": "code",
   "execution_count": null,
   "metadata": {
    "ExecuteTime": {
     "end_time": "2021-02-28T13:38:36.211356Z",
     "start_time": "2021-02-28T13:38:24.024Z"
    }
   },
   "outputs": [],
   "source": [
    "from scipy.sparse import hstack\n",
    "\n",
    "X_train = hstack((X_acc,\n",
    "X_train_Reco_Insurance_Type,\n",
    "X_train_Is_Spouse,\n",
    "X_train_Upper_age,\n",
    "X_train_Lower_age,\n",
    "X_train_City_code_resp,\n",
    "X_Holding_Policy_Duration_code,\n",
    "X_Holding_Policy_Type_train,\n",
    "X_Reco_Policy_Cat_train,\n",
    "X_train_RP_age,\n",
    "X_ID_train,))\n",
    "X_test = hstack((   X_test_acc,\n",
    "X_test_Reco_Insurance_Type,\n",
    "X_test_Is_Spouse,\n",
    "X_test_Upper_age,\n",
    "X_test_Lower_age,\n",
    "X_test_City_code_resp,\n",
    "X_Holding_Policy_Duration_test,\n",
    "X_Holding_Policy_Type_test,\n",
    "X_Reco_Policy_Cat_test,\n",
    "X_test_RP_age,\n",
    "X_ID,\n",
    "))\n",
    "print(X_train.shape)\n",
    "print(X_test.shape)\n"
   ]
  },
  {
   "cell_type": "code",
   "execution_count": null,
   "metadata": {
    "ExecuteTime": {
     "end_time": "2021-02-28T13:38:36.213353Z",
     "start_time": "2021-02-28T13:38:24.029Z"
    }
   },
   "outputs": [],
   "source": [
    "from lightgbm import LGBMClassifier\n",
    "from sklearn.calibration import CalibratedClassifierCV\n",
    "\n",
    "LGB_model = LGBMClassifier(max_depth = 8, n_estimators = 300, reg_lambda = 1.2, reg_alpha = 1.2, min_child_weight = 1, verbose  = 1,\n",
    "                          learning_rate = 0.15, gamma = 0.3, colsample_bytree = 0.6, eval_metric = 'auc', is_higher_better = 1, plot = True)\n",
    "LGB_model.fit(X_train, y_train)\n",
    "sig_clf = CalibratedClassifierCV(LGB_model, method = \"sigmoid\")\n",
    "sig_clf.fit(X_train, y_train)\n",
    "\n",
    "y_pred_train = sig_clf.predict_proba(X_train)\n",
    "y_pred_test = sig_clf.predict_proba(X_test)\n",
    "\n",
    "print(\"Train Score:\", roc_auc_score(y_train, y_pred_train[:, 1]))\n"
   ]
  },
  {
   "cell_type": "code",
   "execution_count": null,
   "metadata": {
    "ExecuteTime": {
     "end_time": "2021-02-28T13:38:36.214352Z",
     "start_time": "2021-02-28T13:38:24.034Z"
    }
   },
   "outputs": [],
   "source": [
    "from xgboost.sklearn import XGBClassifier\n",
    "\n",
    "xgb = XGBClassifier(n_estimators = 150, max_depth = 11, colsample_bytree = 0.6, n_jobs = -1, random_state = 21)\n",
    "xgb.fit(X_train, y_train)\n",
    "sig_clf = CalibratedClassifierCV(xgb, method = \"sigmoid\")\n",
    "sig_clf.fit(X_train, y_train)\n",
    "\n",
    "y_pred_train = sig_clf.predict_proba(X_train)\n",
    "y_pred_test = sig_clf.predict_proba(X_test)\n",
    "\n",
    "print(\"Train Score:\", roc_auc_score(y_train, y_pred_train[:, 1]))"
   ]
  },
  {
   "cell_type": "code",
   "execution_count": 227,
   "metadata": {
    "ExecuteTime": {
     "end_time": "2021-02-28T13:41:10.711580Z",
     "start_time": "2021-02-28T13:41:10.571659Z"
    }
   },
   "outputs": [],
   "source": [
    "sgd_df = pd.DataFrame(data = {'ID':test_data['ID'], 'Response':y_pred_test[:, 1]})\n",
    "sgd_df.head()\n",
    "sgd_df.to_csv(\"sub7.csv\",index=False)"
   ]
  },
  {
   "cell_type": "code",
   "execution_count": 229,
   "metadata": {
    "ExecuteTime": {
     "end_time": "2021-02-28T13:43:17.652681Z",
     "start_time": "2021-02-28T13:43:17.526743Z"
    }
   },
   "outputs": [],
   "source": [
    "\n",
    "\n",
    "sgd_df = pd.DataFrame(data = {'ID':test_data['ID'], 'Response':y_pred_test[:, 1]})\n",
    "sgd_df.head()\n",
    "sgd_df.to_csv(\"sub15new.csv\",index=False)\n"
   ]
  },
  {
   "cell_type": "markdown",
   "metadata": {},
   "source": [
    "# Final model"
   ]
  },
  {
   "cell_type": "code",
   "execution_count": 234,
   "metadata": {
    "ExecuteTime": {
     "end_time": "2021-02-28T13:55:11.576315Z",
     "start_time": "2021-02-28T13:55:03.865453Z"
    }
   },
   "outputs": [
    {
     "name": "stdout",
     "output_type": "stream",
     "text": [
      "Train Score: 0.9992656605094089\n"
     ]
    }
   ],
   "source": [
    "from sklearn.model_selection import GridSearchCV\n",
    "from sklearn.calibration import CalibratedClassifierCV\n",
    "from sklearn.ensemble import RandomForestClassifier\n",
    "\n",
    "rfc = RandomForestClassifier() \n",
    "rfc.fit(X_train_ohe, y_train)\n",
    "sig_clf = CalibratedClassifierCV(rfc, method = \"sigmoid\")\n",
    "sig_clf.fit(X_train_ohe, y_train)\n",
    "\n",
    "y_pred_train = sig_clf.predict_proba(X_train_ohe)\n",
    "y_pred_test = sig_clf.predict_proba(X_test_ohe)\n",
    "\n",
    "print(\"Train Score:\", roc_auc_score(y_train, y_pred_train[:, 1]))"
   ]
  },
  {
   "cell_type": "code",
   "execution_count": null,
   "metadata": {},
   "outputs": [],
   "source": [
    "\n",
    "\n",
    "\n",
    "\n",
    "\n"
   ]
  }
 ],
 "metadata": {
  "kernelspec": {
   "display_name": "Python 3",
   "language": "python",
   "name": "python3"
  },
  "toc": {
   "base_numbering": 1,
   "nav_menu": {},
   "number_sections": true,
   "sideBar": true,
   "skip_h1_title": false,
   "title_cell": "Table of Contents",
   "title_sidebar": "Contents",
   "toc_cell": false,
   "toc_position": {},
   "toc_section_display": true,
   "toc_window_display": false
  },
  "varInspector": {
   "cols": {
    "lenName": 16,
    "lenType": 16,
    "lenVar": 40
   },
   "kernels_config": {
    "python": {
     "delete_cmd_postfix": "",
     "delete_cmd_prefix": "del ",
     "library": "var_list.py",
     "varRefreshCmd": "print(var_dic_list())"
    },
    "r": {
     "delete_cmd_postfix": ") ",
     "delete_cmd_prefix": "rm(",
     "library": "var_list.r",
     "varRefreshCmd": "cat(var_dic_list()) "
    }
   },
   "types_to_exclude": [
    "module",
    "function",
    "builtin_function_or_method",
    "instance",
    "_Feature"
   ],
   "window_display": false
  }
 },
 "nbformat": 4,
 "nbformat_minor": 2
}
